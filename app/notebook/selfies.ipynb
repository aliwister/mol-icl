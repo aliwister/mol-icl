{
 "cells": [
  {
   "cell_type": "code",
   "execution_count": 66,
   "id": "bc675f45-db9c-4206-9c2b-e6d20724deec",
   "metadata": {},
   "outputs": [
    {
     "data": {
      "text/plain": [
       "array(['[C][C][C][C][C][C@@H1][O][C@@H1][Ring1][Ring1][/C][=C][/C][Branch1][C][O][C][/C][=C][\\\\C][/C][=C][\\\\C][C][C][C][=Branch1][C][=O][O-1]',\n",
       "       '[125Te]',\n",
       "       '[C][C][=Branch1][C][=O][O][C@@H1][C][C@H1][C][Branch1][C][C][Branch1][C][C][C][=Branch1][C][=O][C][=C][C@][Ring1][=Branch2][Branch1][C][C][C@H1][C][C][C@][Branch1][C][C][C][=Branch1][=N][=C][C][C@H1][Ring1][=Branch1][C][C][=C][O][C][=Ring1][Branch1][C@@][Ring1][#C][Ring2][Ring1][O][C]'],\n",
       "      dtype=object)"
      ]
     },
     "execution_count": 66,
     "metadata": {},
     "output_type": "execute_result"
    }
   ],
   "source": [
    "from datasets import load_dataset\n",
    "import selfies as sf\n",
    "import numpy as np\n",
    "\n",
    "dataset_name = 'liupf/ChEBI-20-MM'\n",
    "\n",
    "dataset = load_dataset(dataset_name)\n",
    "df_train = dataset['train'].to_pandas()\n",
    "df_valid = dataset['validation'].to_pandas()\n",
    "df_test = dataset['test'].to_pandas()\n",
    "\n",
    "all_dataset = np.concatenate((df_train['SELFIES'].values, df_valid['SELFIES'].values, df_test['SELFIES'].values))\n",
    "train_dataset = df_train['SELFIES'].values\n",
    "valid_dataset = df_valid['SELFIES'].values\n",
    "train_dataset[0:3]"
   ]
  },
  {
   "cell_type": "code",
   "execution_count": 58,
   "id": "70c58cb0-6d78-4c54-8210-0e52a1d8de0d",
   "metadata": {},
   "outputs": [
    {
     "name": "stdout",
     "output_type": "stream",
     "text": [
      "322\n"
     ]
    }
   ],
   "source": [
    "alphabet = sf.get_alphabet_from_selfies(all_dataset)\n",
    "alphabet.add(\"[nop]\")  # [nop] is a special padding symbol\n",
    "alphabet = list(sorted(alphabet))  \n",
    "print(len(alphabet))"
   ]
  },
  {
   "cell_type": "code",
   "execution_count": 107,
   "id": "52ea987c-400d-4d81-8548-9f8e43a14427",
   "metadata": {},
   "outputs": [],
   "source": [
    "def multiple_selfies_to_hot(selfies_list, largest_molecule_len, alphabet):\n",
    "    \"\"\"Convert a list of selfies strings to a one-hot encoding\n",
    "    \"\"\"\n",
    "    hot_list = []\n",
    "    for s in selfies_list:\n",
    "        _, onehot_encoded = selfies_to_hot(s, largest_molecule_len, alphabet)\n",
    "        hot_list.append(onehot_encoded)\n",
    "    return np.array(hot_list)\n",
    "\n",
    "def selfies_to_hot(selfie, largest_selfie_len, alphabet):\n",
    "    \"\"\"Go from a single selfies string to a one-hot encoding.\n",
    "    \"\"\"\n",
    "    symbol_to_int = dict((c, i) for i, c in enumerate(alphabet))\n",
    "\n",
    "    # pad with [nop]\n",
    "    selfie += '[nop]' * (largest_selfie_len - sf.len_selfies(selfie))\n",
    "\n",
    "    # integer encode\n",
    "    symbol_list = sf.split_selfies(selfie)\n",
    "    try:\n",
    "        integer_encoded = [symbol_to_int[symbol] for symbol in symbol_list]\n",
    "    except (KeyError):\n",
    "        integer_encoded = np.zeros(largest_selfie_len, dtype=int)\n",
    "\n",
    "    # one hot-encode the integer encoded selfie\n",
    "    onehot_encoded = list()\n",
    "    for index in integer_encoded:\n",
    "        letter = [0] * len(alphabet)\n",
    "        letter[index] = 1\n",
    "        onehot_encoded.append(letter)\n",
    "\n",
    "    return integer_encoded, np.array(onehot_encoded)"
   ]
  },
  {
   "cell_type": "code",
   "execution_count": 108,
   "id": "b3046c2a-3658-4788-8e35-328e4854d691",
   "metadata": {},
   "outputs": [
    {
     "data": {
      "text/plain": [
       "array(['[C][=C][Branch1][C][C][C][C][C][C@H1][Branch1][C][C][C][C][O][C][=Branch1][C][=O][C][C][=C][C][=C][C][=C][Ring1][=Branch1]',\n",
       "       '[O].[O].[O].[O].[O].[O].[Cl-1].[Cl-1].[Ni+2]',\n",
       "       '[C][C][C][C][C][C][C][C][C][O]',\n",
       "       '[C][C][O][C][O][C][=C][C][=C][Branch1][#Branch2][O][S][Branch1][C][C][=Branch1][C][=O][=O][C][=C][Ring1][O][C][Ring1][=C][Branch1][C][C][C]'],\n",
       "      dtype=object)"
      ]
     },
     "execution_count": 108,
     "metadata": {},
     "output_type": "execute_result"
    }
   ],
   "source": [
    "train_dataset[16:20]"
   ]
  },
  {
   "cell_type": "code",
   "execution_count": 109,
   "id": "19c52f92-7bc0-4913-ade1-ada7523c27e0",
   "metadata": {},
   "outputs": [
    {
     "data": {
      "text/plain": [
       "CID                                                        24645\n",
       "SMILES                            O.O.O.O.O.O.[Cl-].[Cl-].[Ni+2]\n",
       "description    The molecule is a hydrate of nickel chloride c...\n",
       "polararea                                                    6.0\n",
       "xlogp                                                        NaN\n",
       "inchi          InChI=1S/2ClH.Ni.6H2O/h2*1H;;6*1H2/q;;+2;;;;;;...\n",
       "iupacname                      nickel(2+);dichloride;hexahydrate\n",
       "SELFIES             [O].[O].[O].[O].[O].[O].[Cl-1].[Cl-1].[Ni+2]\n",
       "Name: 17, dtype: object"
      ]
     },
     "execution_count": 109,
     "metadata": {},
     "output_type": "execute_result"
    }
   ],
   "source": [
    "df_train.iloc[17]"
   ]
  },
  {
   "cell_type": "code",
   "execution_count": null,
   "id": "ca2796c6-e961-4c47-8592-d2a93bcaf8f0",
   "metadata": {},
   "outputs": [],
   "source": [
    "largest_selfies_len = max(sf.len_selfies(s) for s in all_dataset)\n",
    "selfies = multiple_selfies_to_hot(train_dataset, largest_selfies_len, alphabet)"
   ]
  },
  {
   "cell_type": "code",
   "execution_count": 111,
   "id": "856de03f-baac-4900-9555-3c93516eaea8",
   "metadata": {},
   "outputs": [
    {
     "data": {
      "text/plain": [
       "325220"
      ]
     },
     "execution_count": 111,
     "metadata": {},
     "output_type": "execute_result"
    }
   ],
   "source": [
    "selfies_reshaped = np.reshape(selfies, (len(selfies),-1))\n",
    "len(selfies_reshaped[0])"
   ]
  },
  {
   "cell_type": "code",
   "execution_count": 86,
   "id": "d52e636c-eba0-454e-9d3d-097a90103fd2",
   "metadata": {},
   "outputs": [
    {
     "data": {
      "text/plain": [
       "'[O].[O].[O].[O].[O].[O].[Cl-1].[Cl-1].[Ni+2]'"
      ]
     },
     "execution_count": 86,
     "metadata": {},
     "output_type": "execute_result"
    }
   ],
   "source": [
    "sf.encoder('O.O.O.O.O.O.[Cl-].[Cl-].[Ni+2]')"
   ]
  },
  {
   "cell_type": "code",
   "execution_count": 88,
   "id": "3a1d99be-5774-4875-b7e6-95178ee786c0",
   "metadata": {},
   "outputs": [
    {
     "data": {
      "text/plain": [
       "'O.O.O.O.O.O.[Cl-1].[Cl-1].[Ni+2]'"
      ]
     },
     "execution_count": 88,
     "metadata": {},
     "output_type": "execute_result"
    }
   ],
   "source": [
    "sf.decoder('[O].[O].[O].[O].[O].[O].[Cl-1].[Cl-1].[Ni+2]')"
   ]
  },
  {
   "cell_type": "code",
   "execution_count": 91,
   "id": "05b32387-7b71-4c2a-8ac6-5fde156a3365",
   "metadata": {},
   "outputs": [
    {
     "data": {
      "text/plain": [
       "'[OH0].[OH0].[OH0].[OH0].[OH0].[OH0].[Cl-1].[Cl-1].[Ni+2]'"
      ]
     },
     "execution_count": 91,
     "metadata": {},
     "output_type": "execute_result"
    }
   ],
   "source": [
    "sf.de ('[O].[O].[O].[O].[O].[O].[Cl-1].[Cl-1].[Ni+2]')"
   ]
  },
  {
   "cell_type": "code",
   "execution_count": null,
   "id": "463fc4a8-1c29-4fae-bbae-ad2a1c39d67f",
   "metadata": {},
   "outputs": [],
   "source": []
  }
 ],
 "metadata": {
  "kernelspec": {
   "display_name": "Python 3 (ipykernel)",
   "language": "python",
   "name": "python3"
  },
  "language_info": {
   "codemirror_mode": {
    "name": "ipython",
    "version": 3
   },
   "file_extension": ".py",
   "mimetype": "text/x-python",
   "name": "python",
   "nbconvert_exporter": "python",
   "pygments_lexer": "ipython3",
   "version": "3.11.9"
  }
 },
 "nbformat": 4,
 "nbformat_minor": 5
}
