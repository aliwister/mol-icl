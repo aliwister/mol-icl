{
 "cells": [
  {
   "cell_type": "code",
   "execution_count": 1,
   "id": "1de51cf1-d111-4183-9136-77ac1f6bb4e0",
   "metadata": {},
   "outputs": [],
   "source": [
    "import argparse\n",
    "import os\n",
    "import torch\n",
    "import numpy as np\n",
    " \n",
    "\n",
    "parser = argparse.ArgumentParser()\n",
    "\n",
    "parser.add_argument(\"--seed\", type=int, default=42)\n",
    "parser.add_argument(\"--device\", type=int, default=0)\n",
    "\n",
    "parser.add_argument(\"--dataspace_path\", type=str, default=\"./data\")\n",
    "parser.add_argument(\"--SSL_emb_dim\", type=int, default=256)\n",
    "parser.add_argument(\"--max_seq_len\", type=int, default=512)\n",
    "\n",
    "args = parser.parse_args(\"\")\n",
    "device = 'cuda' if torch.cuda.is_available() else 'cpu'"
   ]
  },
  {
   "cell_type": "code",
   "execution_count": 2,
   "id": "28dbd1f8-cc2d-4599-acdf-00792ff618ed",
   "metadata": {},
   "outputs": [
    {
     "name": "stderr",
     "output_type": "stream",
     "text": [
      "/home/ali.lawati/mol-incontext/env/lib/python3.11/site-packages/tqdm/auto.py:21: TqdmWarning: IProgress not found. Please update jupyter and ipywidgets. See https://ipywidgets.readthedocs.io/en/stable/user_install.html\n",
      "  from .autonotebook import tqdm as notebook_tqdm\n",
      "/home/ali.lawati/mol-incontext/env/lib/python3.11/site-packages/transformers/tokenization_utils_base.py:1601: FutureWarning: `clean_up_tokenization_spaces` was not set. It will be set to `True` by default. This behavior will be depracted in transformers v4.45, and will be then set to `False` by default. For more details check this issue: https://github.com/huggingface/transformers/issues/31884\n",
      "  warnings.warn(\n"
     ]
    }
   ],
   "source": [
    "from transformers import AutoModel, AutoTokenizer\n",
    "pretrained_SciBERT_folder = os.path.join(args.dataspace_path, 'pretrained_SciBERT')\n",
    "text_tokenizer = AutoTokenizer.from_pretrained('allenai/scibert_scivocab_uncased', cache_dir=pretrained_SciBERT_folder)\n",
    "text_model = AutoModel.from_pretrained('allenai/scibert_scivocab_uncased', cache_dir=pretrained_SciBERT_folder).to(device)"
   ]
  },
  {
   "cell_type": "code",
   "execution_count": 3,
   "id": "85079416-701e-454d-9679-f69bf9005acd",
   "metadata": {},
   "outputs": [],
   "source": [
    "# This is for BERT\n",
    "def padarray(A, size, value=0):\n",
    "    t = size - len(A)\n",
    "    return np.pad(A, pad_width=(0, t), mode='constant', constant_values = value)\n",
    "\n",
    "def preprocess_each_sentence(sentence, tokenizer, max_seq_len):\n",
    "    text_input = tokenizer(\n",
    "        sentence, truncation=True, max_length=max_seq_len,\n",
    "        padding='max_length', return_tensors='np')\n",
    "    \n",
    "    input_ids = text_input['input_ids'].squeeze()\n",
    "    attention_mask = text_input['attention_mask'].squeeze()\n",
    "\n",
    "    sentence_tokens_ids = padarray(input_ids, max_seq_len)\n",
    "    sentence_masks = padarray(attention_mask, max_seq_len)\n",
    "    return [sentence_tokens_ids, sentence_masks]\n",
    "\n",
    "\n",
    "# This is for BERT\n",
    "def prepare_text_tokens(device, description, tokenizer, max_seq_len):\n",
    "    B = len(description)\n",
    "    tokens_outputs = [preprocess_each_sentence(description[idx], tokenizer, max_seq_len) for idx in range(B)]\n",
    "    tokens_ids = [o[0] for o in tokens_outputs]\n",
    "    masks = [o[1] for o in tokens_outputs]\n",
    "    tokens_ids = torch.Tensor(tokens_ids).long().to(device)\n",
    "    masks = torch.Tensor(masks).bool().to(device)\n",
    "    return tokens_ids, masks"
   ]
  },
  {
   "cell_type": "code",
   "execution_count": 16,
   "id": "db0178b0-28cf-4c96-94af-b46cebe8992d",
   "metadata": {},
   "outputs": [],
   "source": [
    "#text_dim = 768\n",
    "#text2latent = torch.nn.Linear(text_dim, args.SSL_emb_dim).to(device)\n",
    "\n",
    "description_tokens_ids, description_masks = prepare_text_tokens(device, ['The molecule is an 11-oxo steroid that is corticosterone in which the hydroxy substituent at the 11beta position has been oxidised to give the corresponding ketone. It has a role as a human metabolite and a mouse metabolite. It is a 21-hydroxy steroid, a 3-oxo-Delta(4) steroid, a 20-oxo steroid, an 11-oxo steroid, a corticosteroid and a primary alpha-hydroxy ketone. It derives from a corticosterone.', 'The molecule is a steroid ester, a 20-oxo steroid, an acetate ester, a 17alpha-hydroxy steroid, an 11-oxo steroid, a 3-oxo-Delta(1),Delta(4)-steroid and a tertiary alpha-hydroxy ketone. It derives from a prednisone.', 'The molecule is an 11-oxo steroid that is corticosterone in which the hydroxy substituent at the 11beta position has been oxidised to give the corresponding ketone. It has a role as a human metabolite and a mouse metabolite. It is a 21-hydroxy steroid, a 3-oxo-Delta(4) steroid, a 20-oxo steroid, an 11-oxo steroid, a corticosteroid and a primary alpha-hydroxy ketone. It derives from a corticosterone. # The molecule is a steroid ester, a 20-oxo steroid, an acetate ester, a 17alpha-hydroxy steroid, an 11-oxo steroid, a 3-oxo-Delta(1),Delta(4)-steroid and a tertiary alpha-hydroxy ketone. It derives from a prednisone.'],text_tokenizer, 500) \n",
    "\n",
    "description_output = text_model(input_ids=description_tokens_ids, attention_mask=description_masks)\n",
    "description_repr = description_output[\"pooler_output\"]\n",
    "text_dim = 768\n",
    "#description_repr = text2latent(description_repr)"
   ]
  },
  {
   "cell_type": "code",
   "execution_count": 15,
   "id": "dd065686-4cf5-4fb6-a8fe-1024c73107ec",
   "metadata": {},
   "outputs": [
    {
     "data": {
      "text/plain": [
       "torch.Size([3, 768])"
      ]
     },
     "execution_count": 15,
     "metadata": {},
     "output_type": "execute_result"
    }
   ],
   "source": [
    "description_repr.shape"
   ]
  },
  {
   "cell_type": "code",
   "execution_count": null,
   "id": "c089f9b2-a44d-4cb6-aa95-89c29523710f",
   "metadata": {},
   "outputs": [],
   "source": []
  },
  {
   "cell_type": "code",
   "execution_count": null,
   "id": "ef9ce586-c3b1-4ed8-aafe-97fe2e7620b5",
   "metadata": {},
   "outputs": [],
   "source": []
  }
 ],
 "metadata": {
  "kernelspec": {
   "display_name": "Python 3 (ipykernel)",
   "language": "python",
   "name": "python3"
  },
  "language_info": {
   "codemirror_mode": {
    "name": "ipython",
    "version": 3
   },
   "file_extension": ".py",
   "mimetype": "text/x-python",
   "name": "python",
   "nbconvert_exporter": "python",
   "pygments_lexer": "ipython3",
   "version": "3.11.9"
  }
 },
 "nbformat": 4,
 "nbformat_minor": 5
}
