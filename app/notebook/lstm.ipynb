{
 "cells": [
  {
   "cell_type": "code",
   "execution_count": 1,
   "id": "a19df288-afd3-4537-9e1d-87e9576c3468",
   "metadata": {},
   "outputs": [],
   "source": [
    "import numpy as np\n",
    "from sklearn.model_selection import train_test_split\n"
   ]
  },
  {
   "cell_type": "code",
   "execution_count": 2,
   "id": "ff252cc8-5d3f-45b5-a392-8a44dde735e7",
   "metadata": {},
   "outputs": [
    {
     "name": "stdout",
     "output_type": "stream",
     "text": [
      "(3297,)\n",
      "[0.29757096 0.19992366 0.65875881 ... 0.16584918 0.21265482 0.17678382]\n"
     ]
    }
   ],
   "source": [
    "scores = np.load('/home/ali.lawati/mol-incontext/input/embed/mmcl_attr-chebi-3-epochs300-loop.mistral-7B.scores.npy')\n",
    "print(scores.shape)\n",
    "print(scores)"
   ]
  },
  {
   "cell_type": "code",
   "execution_count": 3,
   "id": "bf8701e4-c370-4185-90df-adcec778c253",
   "metadata": {},
   "outputs": [
    {
     "name": "stdout",
     "output_type": "stream",
     "text": [
      "(3297, 3, 64) (3297, 1, 64)\n"
     ]
    },
    {
     "data": {
      "text/plain": [
       "(3297, 4, 64)"
      ]
     },
     "execution_count": 3,
     "metadata": {},
     "output_type": "execute_result"
    }
   ],
   "source": [
    "embeds = np.load('/home/ali.lawati/mol-incontext/input/embed/mmcl_attr-chebi-3-epochs300-embeds.npz')\n",
    "seqs = embeds['embeds']\n",
    "refs = embeds['test_pool']\n",
    "refs = np.reshape(refs, (refs.shape[0],1,-1))\n",
    "\n",
    "print (seqs.shape, refs.shape)\n",
    "\n",
    "seqs_new = np.concatenate((refs, seqs), axis = 1)\n",
    "seqs_new.shape"
   ]
  },
  {
   "cell_type": "code",
   "execution_count": 16,
   "id": "a6e54be5-a36c-495e-947c-6f4550bf3848",
   "metadata": {},
   "outputs": [],
   "source": [
    "import torch\n",
    "import torch.nn as nn\n",
    "import torch.nn.functional as F\n",
    "import torch.optim as optim\n",
    "import numpy as np\n",
    "import torch.nn.functional as F\n",
    "import pdb\n",
    "\n",
    "class LSTMWithAttention(nn.Module):\n",
    "    def __init__(self, input_size, hidden_size):\n",
    "        super(LSTMWithAttention, self).__init__()\n",
    "        self.lstm = nn.LSTM(input_size, hidden_size, batch_first=True)\n",
    "        self.fc = nn.Linear(hidden_size, 1)\n",
    "        self.attention_layer = nn.Linear(hidden_size, 1)  # To compute attention weights\n",
    "\n",
    "    def forward(self, x):\n",
    "        out, (h, n) = self.lstm(x)\n",
    "        attn_weights = F.softmax(self.attention_layer(out), dim=1)  # Normalize to get attention weights\n",
    "        context_vector = torch.sum(attn_weights * out, dim=1)  \n",
    "        print(context_vector)\n",
    "        combined = torch.cat((context_vector, h[-1]), dim=1)\n",
    "        score = self.fc(combined)\n",
    "        return score"
   ]
  },
  {
   "cell_type": "code",
   "execution_count": 17,
   "id": "dd9a4d89-b3cf-401e-b806-d5ca34f5b0f0",
   "metadata": {},
   "outputs": [],
   "source": [
    "from torch.utils.data import DataLoader, TensorDataset, random_split\n",
    "batch_size = 32\n",
    "x_tensor = torch.tensor(seqs_new)\n",
    "y_tensor = torch.tensor(scores)\n",
    "dataset = TensorDataset(x_tensor, y_tensor)\n",
    "train_size = int(0.8 * len(dataset))\n",
    "train_dataset, val_dataset = random_split(dataset, [train_size, len(dataset)-train_size])\n",
    "\n",
    "train_loader = DataLoader(train_dataset, batch_size=batch_size, shuffle=True)\n",
    "val_loader = DataLoader(val_dataset, batch_size=batch_size, shuffle=False)"
   ]
  },
  {
   "cell_type": "code",
   "execution_count": 18,
   "id": "b4561bdf-ccac-4c60-a814-6caf156adffc",
   "metadata": {},
   "outputs": [
    {
     "name": "stdout",
     "output_type": "stream",
     "text": [
      "tensor([[-0.0245,  0.0496,  0.0357,  ..., -0.0916, -0.0377, -0.0325],\n",
      "        [-0.0277,  0.0408,  0.0263,  ..., -0.0819, -0.0706, -0.0380],\n",
      "        [-0.0050,  0.0523,  0.0463,  ..., -0.0780, -0.0413, -0.0376],\n",
      "        ...,\n",
      "        [-0.0167,  0.0304,  0.0348,  ..., -0.0958, -0.0343, -0.0378],\n",
      "        [ 0.0061,  0.0323,  0.0468,  ..., -0.0910, -0.0517, -0.0452],\n",
      "        [-0.0183,  0.0317,  0.0565,  ..., -0.0716, -0.0489, -0.0246]],\n",
      "       grad_fn=<SumBackward1>)\n"
     ]
    },
    {
     "ename": "RuntimeError",
     "evalue": "mat1 and mat2 shapes cannot be multiplied (32x128 and 64x1)",
     "output_type": "error",
     "traceback": [
      "\u001b[0;31m---------------------------------------------------------------------------\u001b[0m",
      "\u001b[0;31mRuntimeError\u001b[0m                              Traceback (most recent call last)",
      "Cell \u001b[0;32mIn[18], line 22\u001b[0m\n\u001b[1;32m     20\u001b[0m x, y \u001b[38;5;241m=\u001b[39m batch\n\u001b[1;32m     21\u001b[0m \u001b[38;5;66;03m#print(x, y)\u001b[39;00m\n\u001b[0;32m---> 22\u001b[0m outputs \u001b[38;5;241m=\u001b[39m \u001b[43mmodel\u001b[49m\u001b[43m(\u001b[49m\u001b[43mx\u001b[49m\u001b[43m)\u001b[49m \n\u001b[1;32m     23\u001b[0m loss \u001b[38;5;241m=\u001b[39m criterion(outputs, y\u001b[38;5;241m.\u001b[39mfloat())\n\u001b[1;32m     24\u001b[0m \u001b[38;5;66;03m#print(y, loss)\u001b[39;00m\n",
      "File \u001b[0;32m~/mol-incontext/env/lib/python3.11/site-packages/torch/nn/modules/module.py:1553\u001b[0m, in \u001b[0;36mModule._wrapped_call_impl\u001b[0;34m(self, *args, **kwargs)\u001b[0m\n\u001b[1;32m   1551\u001b[0m     \u001b[38;5;28;01mreturn\u001b[39;00m \u001b[38;5;28mself\u001b[39m\u001b[38;5;241m.\u001b[39m_compiled_call_impl(\u001b[38;5;241m*\u001b[39margs, \u001b[38;5;241m*\u001b[39m\u001b[38;5;241m*\u001b[39mkwargs)  \u001b[38;5;66;03m# type: ignore[misc]\u001b[39;00m\n\u001b[1;32m   1552\u001b[0m \u001b[38;5;28;01melse\u001b[39;00m:\n\u001b[0;32m-> 1553\u001b[0m     \u001b[38;5;28;01mreturn\u001b[39;00m \u001b[38;5;28;43mself\u001b[39;49m\u001b[38;5;241;43m.\u001b[39;49m\u001b[43m_call_impl\u001b[49m\u001b[43m(\u001b[49m\u001b[38;5;241;43m*\u001b[39;49m\u001b[43margs\u001b[49m\u001b[43m,\u001b[49m\u001b[43m \u001b[49m\u001b[38;5;241;43m*\u001b[39;49m\u001b[38;5;241;43m*\u001b[39;49m\u001b[43mkwargs\u001b[49m\u001b[43m)\u001b[49m\n",
      "File \u001b[0;32m~/mol-incontext/env/lib/python3.11/site-packages/torch/nn/modules/module.py:1562\u001b[0m, in \u001b[0;36mModule._call_impl\u001b[0;34m(self, *args, **kwargs)\u001b[0m\n\u001b[1;32m   1557\u001b[0m \u001b[38;5;66;03m# If we don't have any hooks, we want to skip the rest of the logic in\u001b[39;00m\n\u001b[1;32m   1558\u001b[0m \u001b[38;5;66;03m# this function, and just call forward.\u001b[39;00m\n\u001b[1;32m   1559\u001b[0m \u001b[38;5;28;01mif\u001b[39;00m \u001b[38;5;129;01mnot\u001b[39;00m (\u001b[38;5;28mself\u001b[39m\u001b[38;5;241m.\u001b[39m_backward_hooks \u001b[38;5;129;01mor\u001b[39;00m \u001b[38;5;28mself\u001b[39m\u001b[38;5;241m.\u001b[39m_backward_pre_hooks \u001b[38;5;129;01mor\u001b[39;00m \u001b[38;5;28mself\u001b[39m\u001b[38;5;241m.\u001b[39m_forward_hooks \u001b[38;5;129;01mor\u001b[39;00m \u001b[38;5;28mself\u001b[39m\u001b[38;5;241m.\u001b[39m_forward_pre_hooks\n\u001b[1;32m   1560\u001b[0m         \u001b[38;5;129;01mor\u001b[39;00m _global_backward_pre_hooks \u001b[38;5;129;01mor\u001b[39;00m _global_backward_hooks\n\u001b[1;32m   1561\u001b[0m         \u001b[38;5;129;01mor\u001b[39;00m _global_forward_hooks \u001b[38;5;129;01mor\u001b[39;00m _global_forward_pre_hooks):\n\u001b[0;32m-> 1562\u001b[0m     \u001b[38;5;28;01mreturn\u001b[39;00m \u001b[43mforward_call\u001b[49m\u001b[43m(\u001b[49m\u001b[38;5;241;43m*\u001b[39;49m\u001b[43margs\u001b[49m\u001b[43m,\u001b[49m\u001b[43m \u001b[49m\u001b[38;5;241;43m*\u001b[39;49m\u001b[38;5;241;43m*\u001b[39;49m\u001b[43mkwargs\u001b[49m\u001b[43m)\u001b[49m\n\u001b[1;32m   1564\u001b[0m \u001b[38;5;28;01mtry\u001b[39;00m:\n\u001b[1;32m   1565\u001b[0m     result \u001b[38;5;241m=\u001b[39m \u001b[38;5;28;01mNone\u001b[39;00m\n",
      "Cell \u001b[0;32mIn[16], line 22\u001b[0m, in \u001b[0;36mLSTMWithAttention.forward\u001b[0;34m(self, x)\u001b[0m\n\u001b[1;32m     20\u001b[0m \u001b[38;5;28mprint\u001b[39m(context_vector)\n\u001b[1;32m     21\u001b[0m combined \u001b[38;5;241m=\u001b[39m torch\u001b[38;5;241m.\u001b[39mcat((context_vector, h[\u001b[38;5;241m-\u001b[39m\u001b[38;5;241m1\u001b[39m]), dim\u001b[38;5;241m=\u001b[39m\u001b[38;5;241m1\u001b[39m)\n\u001b[0;32m---> 22\u001b[0m score \u001b[38;5;241m=\u001b[39m \u001b[38;5;28;43mself\u001b[39;49m\u001b[38;5;241;43m.\u001b[39;49m\u001b[43mfc\u001b[49m\u001b[43m(\u001b[49m\u001b[43mcombined\u001b[49m\u001b[43m)\u001b[49m\n\u001b[1;32m     23\u001b[0m \u001b[38;5;28;01mreturn\u001b[39;00m score\n",
      "File \u001b[0;32m~/mol-incontext/env/lib/python3.11/site-packages/torch/nn/modules/module.py:1553\u001b[0m, in \u001b[0;36mModule._wrapped_call_impl\u001b[0;34m(self, *args, **kwargs)\u001b[0m\n\u001b[1;32m   1551\u001b[0m     \u001b[38;5;28;01mreturn\u001b[39;00m \u001b[38;5;28mself\u001b[39m\u001b[38;5;241m.\u001b[39m_compiled_call_impl(\u001b[38;5;241m*\u001b[39margs, \u001b[38;5;241m*\u001b[39m\u001b[38;5;241m*\u001b[39mkwargs)  \u001b[38;5;66;03m# type: ignore[misc]\u001b[39;00m\n\u001b[1;32m   1552\u001b[0m \u001b[38;5;28;01melse\u001b[39;00m:\n\u001b[0;32m-> 1553\u001b[0m     \u001b[38;5;28;01mreturn\u001b[39;00m \u001b[38;5;28;43mself\u001b[39;49m\u001b[38;5;241;43m.\u001b[39;49m\u001b[43m_call_impl\u001b[49m\u001b[43m(\u001b[49m\u001b[38;5;241;43m*\u001b[39;49m\u001b[43margs\u001b[49m\u001b[43m,\u001b[49m\u001b[43m \u001b[49m\u001b[38;5;241;43m*\u001b[39;49m\u001b[38;5;241;43m*\u001b[39;49m\u001b[43mkwargs\u001b[49m\u001b[43m)\u001b[49m\n",
      "File \u001b[0;32m~/mol-incontext/env/lib/python3.11/site-packages/torch/nn/modules/module.py:1562\u001b[0m, in \u001b[0;36mModule._call_impl\u001b[0;34m(self, *args, **kwargs)\u001b[0m\n\u001b[1;32m   1557\u001b[0m \u001b[38;5;66;03m# If we don't have any hooks, we want to skip the rest of the logic in\u001b[39;00m\n\u001b[1;32m   1558\u001b[0m \u001b[38;5;66;03m# this function, and just call forward.\u001b[39;00m\n\u001b[1;32m   1559\u001b[0m \u001b[38;5;28;01mif\u001b[39;00m \u001b[38;5;129;01mnot\u001b[39;00m (\u001b[38;5;28mself\u001b[39m\u001b[38;5;241m.\u001b[39m_backward_hooks \u001b[38;5;129;01mor\u001b[39;00m \u001b[38;5;28mself\u001b[39m\u001b[38;5;241m.\u001b[39m_backward_pre_hooks \u001b[38;5;129;01mor\u001b[39;00m \u001b[38;5;28mself\u001b[39m\u001b[38;5;241m.\u001b[39m_forward_hooks \u001b[38;5;129;01mor\u001b[39;00m \u001b[38;5;28mself\u001b[39m\u001b[38;5;241m.\u001b[39m_forward_pre_hooks\n\u001b[1;32m   1560\u001b[0m         \u001b[38;5;129;01mor\u001b[39;00m _global_backward_pre_hooks \u001b[38;5;129;01mor\u001b[39;00m _global_backward_hooks\n\u001b[1;32m   1561\u001b[0m         \u001b[38;5;129;01mor\u001b[39;00m _global_forward_hooks \u001b[38;5;129;01mor\u001b[39;00m _global_forward_pre_hooks):\n\u001b[0;32m-> 1562\u001b[0m     \u001b[38;5;28;01mreturn\u001b[39;00m \u001b[43mforward_call\u001b[49m\u001b[43m(\u001b[49m\u001b[38;5;241;43m*\u001b[39;49m\u001b[43margs\u001b[49m\u001b[43m,\u001b[49m\u001b[43m \u001b[49m\u001b[38;5;241;43m*\u001b[39;49m\u001b[38;5;241;43m*\u001b[39;49m\u001b[43mkwargs\u001b[49m\u001b[43m)\u001b[49m\n\u001b[1;32m   1564\u001b[0m \u001b[38;5;28;01mtry\u001b[39;00m:\n\u001b[1;32m   1565\u001b[0m     result \u001b[38;5;241m=\u001b[39m \u001b[38;5;28;01mNone\u001b[39;00m\n",
      "File \u001b[0;32m~/mol-incontext/env/lib/python3.11/site-packages/torch/nn/modules/linear.py:117\u001b[0m, in \u001b[0;36mLinear.forward\u001b[0;34m(self, input)\u001b[0m\n\u001b[1;32m    116\u001b[0m \u001b[38;5;28;01mdef\u001b[39;00m \u001b[38;5;21mforward\u001b[39m(\u001b[38;5;28mself\u001b[39m, \u001b[38;5;28minput\u001b[39m: Tensor) \u001b[38;5;241m-\u001b[39m\u001b[38;5;241m>\u001b[39m Tensor:\n\u001b[0;32m--> 117\u001b[0m     \u001b[38;5;28;01mreturn\u001b[39;00m \u001b[43mF\u001b[49m\u001b[38;5;241;43m.\u001b[39;49m\u001b[43mlinear\u001b[49m\u001b[43m(\u001b[49m\u001b[38;5;28;43minput\u001b[39;49m\u001b[43m,\u001b[49m\u001b[43m \u001b[49m\u001b[38;5;28;43mself\u001b[39;49m\u001b[38;5;241;43m.\u001b[39;49m\u001b[43mweight\u001b[49m\u001b[43m,\u001b[49m\u001b[43m \u001b[49m\u001b[38;5;28;43mself\u001b[39;49m\u001b[38;5;241;43m.\u001b[39;49m\u001b[43mbias\u001b[49m\u001b[43m)\u001b[49m\n",
      "\u001b[0;31mRuntimeError\u001b[0m: mat1 and mat2 shapes cannot be multiplied (32x128 and 64x1)"
     ]
    }
   ],
   "source": [
    "input_size = 64\n",
    "hidden_size = 64\n",
    "num_layers = 2\n",
    "epochs = 100\n",
    "batch_size = 16\n",
    "learning_rate = 0.0007\n",
    "\n",
    "model = LSTMWithAttention(input_size, hidden_size)\n",
    "\n",
    "criterion = nn.MSELoss()  # Mean Squared Error Loss\n",
    "optimizer = optim.Adam(model.parameters(), lr=learning_rate)\n",
    "\n",
    "# Training loop\n",
    "for epoch in range(epochs):\n",
    "    # Training phase\n",
    "    model.train()\n",
    "    train_loss = 0.0\n",
    "    for batch in train_loader:\n",
    "        optimizer.zero_grad()\n",
    "        x, y = batch\n",
    "        #print(x, y)\n",
    "        outputs = model(x) \n",
    "        loss = criterion(outputs, y.float())\n",
    "        #print(y, loss)\n",
    "        loss.backward()\n",
    "        optimizer.step()\n",
    "\n",
    "        train_loss += loss.item()\n",
    "    train_loss /= len(train_loader)\n",
    "        \n",
    "    # Validation phase\n",
    "    model.eval()\n",
    "    with torch.no_grad():  # No gradients needed for validation\n",
    "        val_loss = 0.0\n",
    "        for batch in val_loader:\n",
    "            x, y = batch\n",
    "            outputs = model(x)  # Outputs shape: [batch_size, output_size]\n",
    "            loss = criterion(outputs, y)\n",
    "            val_loss += loss.item()\n",
    "\n",
    "    val_loss /= len(val_loader)\n",
    "    print(f\"Epoch {epoch+1}/{epochs}, Train Loss: {train_loss:.4f}, Val Loss: {val_loss:.4f}\")\n"
   ]
  },
  {
   "cell_type": "code",
   "execution_count": 152,
   "id": "f2eebd2d-b311-4fc4-868d-1f1e2161245e",
   "metadata": {},
   "outputs": [],
   "source": [
    "output = model(x_tensor)"
   ]
  },
  {
   "cell_type": "code",
   "execution_count": 165,
   "id": "008d9278-b442-4210-a036-3919366e6076",
   "metadata": {},
   "outputs": [
    {
     "data": {
      "text/plain": [
       "torch.Size([3297])"
      ]
     },
     "execution_count": 165,
     "metadata": {},
     "output_type": "execute_result"
    }
   ],
   "source": [
    "output = output.squeeze(1) #topk(10)\n",
    "output.shape"
   ]
  },
  {
   "cell_type": "code",
   "execution_count": 167,
   "id": "e84957f6-48a0-4eb5-b4d7-ae5e085231ab",
   "metadata": {},
   "outputs": [
    {
     "data": {
      "text/plain": [
       "torch.return_types.topk(\n",
       "values=tensor([0.4076, 0.4037, 0.4013, 0.3975, 0.3969, 0.3967, 0.3965, 0.3955, 0.3930,\n",
       "        0.3928, 0.3909, 0.3906, 0.3900, 0.3894, 0.3880, 0.3878, 0.3873, 0.3860,\n",
       "        0.3856, 0.3852, 0.3849, 0.3848, 0.3839, 0.3831, 0.3830, 0.3829, 0.3822,\n",
       "        0.3816, 0.3807, 0.3807, 0.3795, 0.3790, 0.3783, 0.3779, 0.3779, 0.3771,\n",
       "        0.3760, 0.3758, 0.3757, 0.3751, 0.3746, 0.3742, 0.3740, 0.3738, 0.3737,\n",
       "        0.3736, 0.3735, 0.3734, 0.3734, 0.3729, 0.3726, 0.3725, 0.3716, 0.3715,\n",
       "        0.3715, 0.3715, 0.3713, 0.3711, 0.3710, 0.3705, 0.3704, 0.3702, 0.3701,\n",
       "        0.3699, 0.3699, 0.3698, 0.3697, 0.3697, 0.3696, 0.3691, 0.3690, 0.3688,\n",
       "        0.3688, 0.3685, 0.3684, 0.3684, 0.3684, 0.3683, 0.3679, 0.3679, 0.3678,\n",
       "        0.3678, 0.3673, 0.3672, 0.3672, 0.3671, 0.3666, 0.3666, 0.3666, 0.3665,\n",
       "        0.3665, 0.3663, 0.3662, 0.3662, 0.3661, 0.3661, 0.3661, 0.3660, 0.3660,\n",
       "        0.3659], grad_fn=<TopkBackward0>),\n",
       "indices=tensor([ 557,  963, 1522, 1666, 2918, 2325, 1118, 1776, 1833, 1407,  416, 2421,\n",
       "        1920, 2050,  745, 3262, 1854,   95, 2145, 3149,  204, 1870, 1571, 1817,\n",
       "         727, 2655, 1496, 3094, 2333,  892, 2847, 2527, 1524, 2676, 2255,  497,\n",
       "        2401, 2383,  489, 1835, 1669, 1696,  342, 2077, 1127, 2621, 2496, 1003,\n",
       "        3079, 1809,  715, 2097, 1562,  468,  855,  274, 1955,  412, 1745, 3257,\n",
       "         981, 2696, 2932,  545, 2392, 2140,  120, 2132, 2126,  844, 1932, 1685,\n",
       "        2969,  799, 1308, 3242,  522, 2293,  948, 2768, 2956, 2581, 1130,   94,\n",
       "         419, 3228, 1732, 2804, 1203,   54, 1060,  246, 1135, 1606, 1046, 3140,\n",
       "        2027,  429, 2785, 2259]))"
      ]
     },
     "execution_count": 167,
     "metadata": {},
     "output_type": "execute_result"
    }
   ],
   "source": [
    "output.topk(100)"
   ]
  },
  {
   "cell_type": "code",
   "execution_count": null,
   "id": "4a5ec2ff-f2ca-4beb-b9f9-546cafc8ff55",
   "metadata": {},
   "outputs": [],
   "source": []
  }
 ],
 "metadata": {
  "kernelspec": {
   "display_name": "Python 3 (ipykernel)",
   "language": "python",
   "name": "python3"
  },
  "language_info": {
   "codemirror_mode": {
    "name": "ipython",
    "version": 3
   },
   "file_extension": ".py",
   "mimetype": "text/x-python",
   "name": "python",
   "nbconvert_exporter": "python",
   "pygments_lexer": "ipython3",
   "version": "3.11.9"
  }
 },
 "nbformat": 4,
 "nbformat_minor": 5
}
