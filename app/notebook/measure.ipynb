{
 "cells": [
  {
   "cell_type": "code",
   "execution_count": 8,
   "id": "c47c7408-dca8-4bdb-bb3d-f2e55c8dc63b",
   "metadata": {},
   "outputs": [],
   "source": [
    "import sys\n",
    "sys.path.append('..')"
   ]
  },
  {
   "cell_type": "code",
   "execution_count": 11,
   "id": "6cd61e15-5c9b-46fd-8fc9-7355b041aec8",
   "metadata": {},
   "outputs": [],
   "source": [
    "import pandas as pd\n",
    "import numpy as np\n",
    "\n",
    "from sentence_transformers import SentenceTransformer, util\n",
    "import evaluate\n",
    "import torch.nn.functional as F\n",
    "from pathlib import Path"
   ]
  },
  {
   "cell_type": "code",
   "execution_count": 12,
   "id": "cf823b7d-0cbd-45d6-8007-a642e78ab10d",
   "metadata": {},
   "outputs": [],
   "source": [
    "def get_filename(input_csv):\n",
    "    # Get the file name without directory and extension\n",
    "    filename = Path(input_csv).stem\n",
    "    return filename\n",
    "\n",
    "def measure(output_file, time_prompt):\n",
    "    st_model = SentenceTransformer('paraphrase-MiniLM-L6-v2')\n",
    "\n",
    "    df = pd.read_csv(output_file)\n",
    "    res = df['results'].tolist()\n",
    "    references = df['references'].tolist()\n",
    "\n",
    "    emb_res = st_model.encode(res, convert_to_tensor=True)\n",
    "    emb_ref = st_model.encode(references, convert_to_tensor=True)\n",
    "    score1 = F.cosine_similarity(emb_res, emb_ref, dim=1).mean().item()\n",
    "\n",
    "    sbert_model = SentenceTransformer('paraphrase-distilroberta-base-v1')\n",
    "    emb_res = sbert_model.encode(res, convert_to_tensor=True)\n",
    "    emb_ref = sbert_model.encode(references, convert_to_tensor=True)\n",
    "    score2 = F.cosine_similarity(emb_res, emb_ref, dim=1).mean().item()\n",
    "\n",
    "    bleu_metric = evaluate.load(\"bleu\")\n",
    "    bleu4 = bleu_metric.compute(predictions=res, references=references)\n",
    "    bleu2 = bleu_metric.compute(predictions=res, references=references, max_order=2)\n",
    "\n",
    "    # Initialize lists to store individual scores\n",
    "    bleu4_scores = []\n",
    "    bleu2_scores = []\n",
    "\n",
    "    # Compute BLEU scores for each example\n",
    "    for pred, ref in zip(res, references):\n",
    "        # Each ref should be a list of reference texts, as BLEU expects multiple references for each prediction\n",
    "        if not isinstance(ref, list):\n",
    "            ref = [ref]\n",
    "            \n",
    "        # Compute BLEU-4 score\n",
    "        bleu4 = bleu_metric.compute(predictions=[pred], references=[ref])\n",
    "        bleu4_scores.append(bleu4['bleu'])\n",
    "        \n",
    "        # Compute BLEU-2 score (up to n-gram order 2)\n",
    "        bleu2 = bleu_metric.compute(predictions=[pred], references=[ref], max_order=2)\n",
    "        bleu2_scores.append(bleu2['bleu'])\n",
    "\n",
    "    lowest_values = sorted(enumerate(bleu4_scores), key=lambda x: x[1])[:5]\n",
    "    lowest_indexes, lowest_scores = zip(*lowest_values)\n",
    "    print(lowest_indexes, lowest_scores)\n",
    "\n",
    "    lowest_values = sorted(enumerate(bleu2_scores), key=lambda x: x[1])[:5]\n",
    "    lowest_indexes, lowest_scores = zip(*lowest_values)\n",
    "    print(lowest_indexes, lowest_scores)\n",
    "\n",
    "    rouge_metric = evaluate.load('rouge')\n",
    "    rouge = rouge_metric.compute(predictions=res,\n",
    "                      references=references)\n",
    "    meteor_metric = evaluate.load('meteor')\n",
    "    meteor = meteor_metric.compute(predictions=res, references=references)\n",
    "\n",
    "    print(f\"{get_filename(output_file)}, {len(res)}, {bleu2['bleu']}, {bleu4['bleu']}, {rouge['rouge1']}, {rouge['rouge2']}, {rouge['rougeL']}, {meteor['meteor']}, {score1}, {score2}, {time_prompt}\" + '\\n')\n",
    " "
   ]
  },
  {
   "cell_type": "code",
   "execution_count": 7,
   "id": "7c16655b-88aa-4c78-8f13-fda9483076f3",
   "metadata": {},
   "outputs": [
    {
     "name": "stderr",
     "output_type": "stream",
     "text": [
      "/home/ali.lawati/mol-incontext/env/lib/python3.11/site-packages/transformers/tokenization_utils_base.py:1601: FutureWarning: `clean_up_tokenization_spaces` was not set. It will be set to `True` by default. This behavior will be depracted in transformers v4.45, and will be then set to `False` by default. For more details check this issue: https://github.com/huggingface/transformers/issues/31884\n",
      "  warnings.warn(\n"
     ]
    },
    {
     "name": "stdout",
     "output_type": "stream",
     "text": [
      "(5, 7, 8, 91, 124) (0.0, 0.0, 0.0, 0.0, 0.0)\n",
      "(504, 648, 837, 793, 172) (0.00027969294491888777, 0.001107932148943576, 0.0011803083339673264, 0.0029548413131870507, 0.007464021168457002)\n"
     ]
    },
    {
     "name": "stderr",
     "output_type": "stream",
     "text": [
      "[nltk_data] Downloading package wordnet to\n",
      "[nltk_data]     /home/ali.lawati/nltk_data...\n",
      "[nltk_data]   Package wordnet is already up-to-date!\n",
      "[nltk_data] Downloading package punkt_tab to\n",
      "[nltk_data]     /home/ali.lawati/nltk_data...\n",
      "[nltk_data]   Package punkt_tab is already up-to-date!\n",
      "[nltk_data] Downloading package omw-1.4 to\n",
      "[nltk_data]     /home/ali.lawati/nltk_data...\n",
      "[nltk_data]   Package omw-1.4 is already up-to-date!\n"
     ]
    },
    {
     "ename": "NameError",
     "evalue": "name 'get_filename' is not defined",
     "output_type": "error",
     "traceback": [
      "\u001b[0;31m---------------------------------------------------------------------------\u001b[0m",
      "\u001b[0;31mNameError\u001b[0m                                 Traceback (most recent call last)",
      "Cell \u001b[0;32mIn[7], line 1\u001b[0m\n\u001b[0;32m----> 1\u001b[0m \u001b[43mmeasure\u001b[49m\u001b[43m(\u001b[49m\u001b[38;5;124;43m'\u001b[39;49m\u001b[38;5;124;43m/home/ali.lawati/mol-incontext/output/mmcl-chebi-3-epochs100-ensure-diff.mistral-7B.csv\u001b[39;49m\u001b[38;5;124;43m'\u001b[39;49m\u001b[43m,\u001b[49m\u001b[43m \u001b[49m\u001b[38;5;241;43m0\u001b[39;49m\u001b[43m)\u001b[49m\n",
      "Cell \u001b[0;32mIn[6], line 53\u001b[0m, in \u001b[0;36mmeasure\u001b[0;34m(output_file, time_prompt)\u001b[0m\n\u001b[1;32m     50\u001b[0m meteor_metric \u001b[38;5;241m=\u001b[39m evaluate\u001b[38;5;241m.\u001b[39mload(\u001b[38;5;124m'\u001b[39m\u001b[38;5;124mmeteor\u001b[39m\u001b[38;5;124m'\u001b[39m)\n\u001b[1;32m     51\u001b[0m meteor \u001b[38;5;241m=\u001b[39m meteor_metric\u001b[38;5;241m.\u001b[39mcompute(predictions\u001b[38;5;241m=\u001b[39mres, references\u001b[38;5;241m=\u001b[39mreferences)\n\u001b[0;32m---> 53\u001b[0m \u001b[38;5;28mprint\u001b[39m(\u001b[38;5;124mf\u001b[39m\u001b[38;5;124m\"\u001b[39m\u001b[38;5;132;01m{\u001b[39;00m\u001b[43mget_filename\u001b[49m(output_file)\u001b[38;5;132;01m}\u001b[39;00m\u001b[38;5;124m, \u001b[39m\u001b[38;5;132;01m{\u001b[39;00m\u001b[38;5;28mlen\u001b[39m(res)\u001b[38;5;132;01m}\u001b[39;00m\u001b[38;5;124m, \u001b[39m\u001b[38;5;132;01m{\u001b[39;00mbleu2[\u001b[38;5;124m'\u001b[39m\u001b[38;5;124mbleu\u001b[39m\u001b[38;5;124m'\u001b[39m]\u001b[38;5;132;01m}\u001b[39;00m\u001b[38;5;124m, \u001b[39m\u001b[38;5;132;01m{\u001b[39;00mbleu4[\u001b[38;5;124m'\u001b[39m\u001b[38;5;124mbleu\u001b[39m\u001b[38;5;124m'\u001b[39m]\u001b[38;5;132;01m}\u001b[39;00m\u001b[38;5;124m, \u001b[39m\u001b[38;5;132;01m{\u001b[39;00mrouge[\u001b[38;5;124m'\u001b[39m\u001b[38;5;124mrouge1\u001b[39m\u001b[38;5;124m'\u001b[39m]\u001b[38;5;132;01m}\u001b[39;00m\u001b[38;5;124m, \u001b[39m\u001b[38;5;132;01m{\u001b[39;00mrouge[\u001b[38;5;124m'\u001b[39m\u001b[38;5;124mrouge2\u001b[39m\u001b[38;5;124m'\u001b[39m]\u001b[38;5;132;01m}\u001b[39;00m\u001b[38;5;124m, \u001b[39m\u001b[38;5;132;01m{\u001b[39;00mrouge[\u001b[38;5;124m'\u001b[39m\u001b[38;5;124mrougeL\u001b[39m\u001b[38;5;124m'\u001b[39m]\u001b[38;5;132;01m}\u001b[39;00m\u001b[38;5;124m, \u001b[39m\u001b[38;5;132;01m{\u001b[39;00mmeteor[\u001b[38;5;124m'\u001b[39m\u001b[38;5;124mmeteor\u001b[39m\u001b[38;5;124m'\u001b[39m]\u001b[38;5;132;01m}\u001b[39;00m\u001b[38;5;124m, \u001b[39m\u001b[38;5;132;01m{\u001b[39;00mscore1\u001b[38;5;132;01m}\u001b[39;00m\u001b[38;5;124m, \u001b[39m\u001b[38;5;132;01m{\u001b[39;00mscore2\u001b[38;5;132;01m}\u001b[39;00m\u001b[38;5;124m, \u001b[39m\u001b[38;5;132;01m{\u001b[39;00mtime_prompt\u001b[38;5;132;01m}\u001b[39;00m\u001b[38;5;124m\"\u001b[39m \u001b[38;5;241m+\u001b[39m \u001b[38;5;124m'\u001b[39m\u001b[38;5;130;01m\\n\u001b[39;00m\u001b[38;5;124m'\u001b[39m)\n",
      "\u001b[0;31mNameError\u001b[0m: name 'get_filename' is not defined"
     ]
    }
   ],
   "source": [
    "measure('/home/ali.lawati/mol-incontext/output/mmcl-chebi-3-epochs100-ensure-diff.mistral-7B.csv', 0)"
   ]
  },
  {
   "cell_type": "code",
   "execution_count": null,
   "id": "7a309292-6c7e-4b28-b41d-e00cd42be64c",
   "metadata": {},
   "outputs": [],
   "source": []
  },
  {
   "cell_type": "code",
   "execution_count": 14,
   "id": "51472700-6568-4d73-8835-8dc2366d54bb",
   "metadata": {},
   "outputs": [
    {
     "data": {
      "text/plain": [
       "{'bleu': 0.0,\n",
       " 'precisions': [0.42857142857142855,\n",
       "  0.17647058823529413,\n",
       "  0.06060606060606061,\n",
       "  0.0],\n",
       " 'brevity_penalty': 0.4623520933081964,\n",
       " 'length_ratio': 0.5645161290322581,\n",
       " 'translation_length': 35,\n",
       " 'reference_length': 62}"
      ]
     },
     "execution_count": 14,
     "metadata": {},
     "output_type": "execute_result"
    }
   ],
   "source": [
    "bleu_metric = evaluate.load(\"bleu\")\n",
    "bleu_metric.compute(predictions=[\"The molecule is a glucitol that is D-glucitol in which the carbon at position 1 is the (13)C isotope. It is a glucitol and a (13)C-modified compound.\"], references=[[\"The molecule is the D-enantiomer of glucitol (also known as D-sorbitol). It has a role as a sweetening agent, a laxative, a metabolite, a cathartic, a human metabolite, a food humectant, a Saccharomyces cerevisiae metabolite, an Escherichia coli metabolite and a mouse metabolite. It is an enantiomer of a L-glucitol.\"]])"
   ]
  },
  {
   "cell_type": "code",
   "execution_count": null,
   "id": "f943193d-7901-4019-b3a9-e2d8db1e2d77",
   "metadata": {},
   "outputs": [],
   "source": []
  }
 ],
 "metadata": {
  "kernelspec": {
   "display_name": "Python 3 (ipykernel)",
   "language": "python",
   "name": "python3"
  },
  "language_info": {
   "codemirror_mode": {
    "name": "ipython",
    "version": 3
   },
   "file_extension": ".py",
   "mimetype": "text/x-python",
   "name": "python",
   "nbconvert_exporter": "python",
   "pygments_lexer": "ipython3",
   "version": "3.11.9"
  }
 },
 "nbformat": 4,
 "nbformat_minor": 5
}
