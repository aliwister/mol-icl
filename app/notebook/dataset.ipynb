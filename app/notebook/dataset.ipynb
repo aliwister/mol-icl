{
 "cells": [
  {
   "cell_type": "code",
   "execution_count": 1,
   "id": "fa90ad2c-e871-4c5f-830f-6eaf22364131",
   "metadata": {},
   "outputs": [
    {
     "name": "stderr",
     "output_type": "stream",
     "text": [
      "/home/ali.lawati/mol-incontext/env/lib/python3.11/site-packages/tqdm/auto.py:21: TqdmWarning: IProgress not found. Please update jupyter and ipywidgets. See https://ipywidgets.readthedocs.io/en/stable/user_install.html\n",
      "  from .autonotebook import tqdm as notebook_tqdm\n"
     ]
    },
    {
     "ename": "ImportError",
     "evalue": "cannot import name 'PubChemSTM' from 'torch_geometric.datasets' (/home/ali.lawati/mol-incontext/env/lib/python3.11/site-packages/torch_geometric/datasets/__init__.py)",
     "output_type": "error",
     "traceback": [
      "\u001b[0;31m---------------------------------------------------------------------------\u001b[0m",
      "\u001b[0;31mImportError\u001b[0m                               Traceback (most recent call last)",
      "Cell \u001b[0;32mIn[1], line 1\u001b[0m\n\u001b[0;32m----> 1\u001b[0m \u001b[38;5;28;01mfrom\u001b[39;00m \u001b[38;5;21;01mtorch_geometric\u001b[39;00m\u001b[38;5;21;01m.\u001b[39;00m\u001b[38;5;21;01mdatasets\u001b[39;00m \u001b[38;5;28;01mimport\u001b[39;00m PubChemSTM\n\u001b[1;32m      3\u001b[0m \u001b[38;5;66;03m# Load the dataset\u001b[39;00m\n\u001b[1;32m      4\u001b[0m dataset \u001b[38;5;241m=\u001b[39m PubChemSTM(root\u001b[38;5;241m=\u001b[39m\u001b[38;5;124m'\u001b[39m\u001b[38;5;124mpath/to/dataset\u001b[39m\u001b[38;5;124m'\u001b[39m)\n",
      "\u001b[0;31mImportError\u001b[0m: cannot import name 'PubChemSTM' from 'torch_geometric.datasets' (/home/ali.lawati/mol-incontext/env/lib/python3.11/site-packages/torch_geometric/datasets/__init__.py)"
     ]
    }
   ],
   "source": [
    "from torch_geometric.datasets import PubChemSTM\n",
    "\n",
    "# Load the dataset\n",
    "dataset = PubChemSTM(root='path/to/dataset')\n",
    "\n",
    "# Check the first data sample\n",
    "print(dataset[0])"
   ]
  },
  {
   "cell_type": "code",
   "execution_count": 3,
   "id": "e21ae7a9-00b7-48a8-9a4b-5745ce3bf732",
   "metadata": {},
   "outputs": [
    {
     "name": "stdout",
     "output_type": "stream",
     "text": [
      "['AMiner', 'AQSOL', 'Actor', 'AirfRANS', 'Airports', 'Amazon', 'AmazonBook', 'AmazonProducts', 'AttributedGraphDataset', 'BA2MotifDataset', 'BAMultiShapesDataset', 'BAShapes', 'BitcoinOTC', 'BrcaTcga', 'CitationFull', 'CoMA', 'Coauthor', 'CoraFull', 'CornellTemporalHyperGraphDataset', 'DBLP', 'DBP15K', 'DGraphFin', 'DeezerEurope', 'DynamicFAUST', 'EllipticBitcoinDataset', 'EllipticBitcoinTemporalDataset', 'EmailEUCore', 'Entities', 'ExplainerDataset', 'FAUST', 'FB15k_237', 'FacebookPagePage', 'FakeDataset', 'FakeHeteroDataset', 'Flickr', 'GDELT', 'GDELTLite', 'GEDDataset', 'GNNBenchmarkDataset', 'GemsecDeezer', 'GeometricShapes', 'GitHub', 'HGBDataset', 'HM', 'HeterophilousGraphDataset', 'HydroNet', 'ICEWS18', 'IGMCDataset', 'IMDB', 'InfectionDataset', 'JODIEDataset', 'KarateClub', 'LINKXDataset', 'LRGBDataset', 'LastFM', 'LastFMAsia', 'MD17', 'MNISTSuperpixels', 'MalNetTiny', 'MixHopSyntheticDataset', 'ModelNet', 'MoleculeNet', 'MovieLens', 'MovieLens100K', 'MovieLens1M', 'MyketDataset', 'NELL', 'NeuroGraphDataset', 'OGB_MAG', 'OMDB', 'OPFDataset', 'OSE_GVCS', 'PCPNetDataset', 'PCQM4Mv2', 'PPI', 'PascalPF', 'PascalVOCKeypoints', 'Planetoid', 'PolBlogs', 'QM7b', 'QM9', 'RCDD', 'RandomPartitionGraphDataset', 'Reddit', 'Reddit2', 'RelLinkPredDataset', 'S3DIS', 'SHREC2016', 'SNAPDataset', 'ShapeNet', 'StochasticBlockModelDataset', 'SuiteSparseMatrixCollection', 'TOSCA', 'TUDataset', 'Taobao', 'Twitch', 'UPFD', 'WILLOWObjectClass', 'WebKB', 'WebQSPDataset', 'WikiCS', 'Wikidata5M', 'WikipediaNetwork', 'WordNet18', 'WordNet18RR', 'Yelp', 'ZINC', '__all__', '__builtins__', '__cached__', '__doc__', '__file__', '__loader__', '__name__', '__package__', '__path__', '__spec__', 'actor', 'airfrans', 'airports', 'amazon', 'amazon_book', 'amazon_products', 'aminer', 'aqsol', 'attributed_graph_dataset', 'ba2motif_dataset', 'ba_multi_shapes', 'ba_shapes', 'bitcoin_otc', 'brca_tgca', 'citation_full', 'coauthor', 'coma', 'cornell', 'dblp', 'dbp15k', 'deezer_europe', 'dgraph', 'dynamic_faust', 'elliptic', 'elliptic_temporal', 'email_eu_core', 'entities', 'explainer_dataset', 'facebook', 'fake', 'faust', 'flickr', 'freebase', 'gdelt', 'gdelt_lite', 'ged_dataset', 'gemsec', 'geometry', 'github', 'gnn_benchmark_dataset', 'graph_generator', 'hetero_datasets', 'heterophilous_graph_dataset', 'hgb_dataset', 'hm', 'homo_datasets', 'hydro_net', 'hyper_datasets', 'icews', 'igmc_dataset', 'imdb', 'infection_dataset', 'jodie', 'karate', 'last_fm', 'lastfm_asia', 'linkx_dataset', 'lrgb', 'malnet_tiny', 'md17', 'mixhop_synthetic_dataset', 'mnist_superpixels', 'modelnet', 'molecule_net', 'motif_generator', 'movie_lens', 'movie_lens_100k', 'movie_lens_1m', 'myket', 'nell', 'neurograph', 'ogb_mag', 'omdb', 'opf', 'ose_gvcs', 'pascal', 'pascal_pf', 'pcpnet_dataset', 'pcqm4m', 'planetoid', 'polblogs', 'ppi', 'qm7', 'qm9', 'rcdd', 'reddit', 'reddit2', 'rel_link_pred_dataset', 's3dis', 'sbm_dataset', 'shapenet', 'shrec2016', 'snap_dataset', 'suite_sparse', 'synthetic_datasets', 'taobao', 'torch_geometric', 'tosca', 'tu_dataset', 'twitch', 'upfd', 'utils', 'web_qsp_dataset', 'webkb', 'wikics', 'wikidata', 'wikipedia_network', 'willow_object_class', 'word_net', 'yelp', 'zinc']\n"
     ]
    }
   ],
   "source": [
    "import torch_geometric.datasets as datasets\n",
    "\n",
    "print(dir(datasets))"
   ]
  },
  {
   "cell_type": "code",
   "execution_count": null,
   "id": "8696f176-e854-4c98-9442-2f7e0aabb0d5",
   "metadata": {},
   "outputs": [],
   "source": []
  }
 ],
 "metadata": {
  "kernelspec": {
   "display_name": "Python 3 (ipykernel)",
   "language": "python",
   "name": "python3"
  },
  "language_info": {
   "codemirror_mode": {
    "name": "ipython",
    "version": 3
   },
   "file_extension": ".py",
   "mimetype": "text/x-python",
   "name": "python",
   "nbconvert_exporter": "python",
   "pygments_lexer": "ipython3",
   "version": "3.11.9"
  }
 },
 "nbformat": 4,
 "nbformat_minor": 5
}
