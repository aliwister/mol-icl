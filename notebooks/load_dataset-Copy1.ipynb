{
 "cells": [
  {
   "cell_type": "code",
   "execution_count": 2,
   "id": "97672f89-010a-46c5-8b98-876b6fe365bc",
   "metadata": {
    "scrolled": true
   },
   "outputs": [],
   "source": [
    "\n",
    "import pandas as pd\n",
    "\n",
    "dataset_name = '/home/ali.lawati/mol-incontext/input/chebi-random-2-1000.csv'\n",
    "# Replace 'dataset_name' with the actual name of the dataset you want to load\n",
    "df = pd.read_csv(dataset_name)\n",
    "row = df.iloc[[343]]\n",
    "row.to_csv('/home/ali.lawati/mol-incontext/input/debug.csv', index=False)\n"
   ]
  },
  {
   "cell_type": "code",
   "execution_count": 3,
   "id": "6bd61360-2746-4a9f-97ce-d110600dec3a",
   "metadata": {
    "scrolled": true
   },
   "outputs": [
    {
     "data": {
      "text/plain": [
       "'Input: CC(=O)CCC1COc2cc3c(c(O)c21)C(=O)c1c(O)cc(O)cc1C3=O\\nOutput: The molecule is the tetracyclic anthrafuran form of versicolorone. It is an anthrafuran, a versicolorone and a member of p-quinones.\\n###\\nInput: CCCCCCCCCCCCCC[C@@H](O)[C@@H](O)[C@H](CO[C@H]1O[C@H](CO)[C@H](O)[C@H](O)[C@H]1O)N=C(O)CCCCCCCc1ccc(F)cc1\\nOutput: The molecule is a glycophytoceramide having an alpha-D-galactopyranosyl residue at the O-1 position and an 8-(4-fluorophenyl)octanoyl group attached to the nitrogen. It derives from an alpha-D-galactose.\\n###\\nInput: O=C(O)c1c(O)cccc1O\\nOutput:'"
      ]
     },
     "execution_count": 3,
     "metadata": {},
     "output_type": "execute_result"
    }
   ],
   "source": [
    "# Set display options to avoid truncation\n",
    "pd.set_option('display.max_rows', None)  # Display all rows\n",
    "pd.set_option('display.max_columns', None)  # Display all columns\n",
    "pd.set_option('display.max_colwidth', None)  # Display full column width\n",
    "pd.set_option('display.expand_frame_repr', False)  # Disable wrapping to new line\n",
    "\n",
    "df.iloc[343]['prompt1']\n"
   ]
  },
  {
   "cell_type": "code",
   "execution_count": 5,
   "id": "9a2f59b9-b4c8-4a29-833b-afaaeb427d93",
   "metadata": {},
   "outputs": [
    {
     "data": {
      "text/html": [
       "<div>\n",
       "<style scoped>\n",
       "    .dataframe tbody tr th:only-of-type {\n",
       "        vertical-align: middle;\n",
       "    }\n",
       "\n",
       "    .dataframe tbody tr th {\n",
       "        vertical-align: top;\n",
       "    }\n",
       "\n",
       "    .dataframe thead th {\n",
       "        text-align: right;\n",
       "    }\n",
       "</style>\n",
       "<table border=\"1\" class=\"dataframe\">\n",
       "  <thead>\n",
       "    <tr style=\"text-align: right;\">\n",
       "      <th></th>\n",
       "      <th>prompt1</th>\n",
       "      <th>ref</th>\n",
       "    </tr>\n",
       "  </thead>\n",
       "  <tbody>\n",
       "    <tr>\n",
       "      <th>0</th>\n",
       "      <td>Input: CC(=O)CCC1COc2cc3c(c(O)c21)C(=O)c1c(O)cc(O)cc1C3=O\\nOutput: The molecule is the tetracyclic anthrafuran form of versicolorone. It is an anthrafuran, a versicolorone and a member of p-quinones.\\n###\\nInput: CCCCCCCCCCCCCC[C@@H](O)[C@@H](O)[C@H](CO[C@H]1O[C@H](CO)[C@H](O)[C@H](O)[C@H]1O)N=C(O)CCCCCCCc1ccc(F)cc1\\nOutput: The molecule is a glycophytoceramide having an alpha-D-galactopyranosyl residue at the O-1 position and an 8-(4-fluorophenyl)octanoyl group attached to the nitrogen. It derives from an alpha-D-galactose.\\n###\\nInput: O=C(O)c1c(O)cccc1O\\nOutput:</td>\n",
       "      <td>The molecule is a dihydroxybenzoic acid having the two hydroxy groups at the C-2 and C-6 positions. It has a role as a metabolite. It is a conjugate acid of a 2,6-dihydroxybenzoate.</td>\n",
       "    </tr>\n",
       "  </tbody>\n",
       "</table>\n",
       "</div>"
      ],
      "text/plain": [
       "                                                                                                                                                                                                                                                                                                                                                                                                                                                                                                                                                                                       prompt1                                                                                                                                                                                    ref\n",
       "0  Input: CC(=O)CCC1COc2cc3c(c(O)c21)C(=O)c1c(O)cc(O)cc1C3=O\\nOutput: The molecule is the tetracyclic anthrafuran form of versicolorone. It is an anthrafuran, a versicolorone and a member of p-quinones.\\n###\\nInput: CCCCCCCCCCCCCC[C@@H](O)[C@@H](O)[C@H](CO[C@H]1O[C@H](CO)[C@H](O)[C@H](O)[C@H]1O)N=C(O)CCCCCCCc1ccc(F)cc1\\nOutput: The molecule is a glycophytoceramide having an alpha-D-galactopyranosyl residue at the O-1 position and an 8-(4-fluorophenyl)octanoyl group attached to the nitrogen. It derives from an alpha-D-galactose.\\n###\\nInput: O=C(O)c1c(O)cccc1O\\nOutput:  The molecule is a dihydroxybenzoic acid having the two hydroxy groups at the C-2 and C-6 positions. It has a role as a metabolite. It is a conjugate acid of a 2,6-dihydroxybenzoate."
      ]
     },
     "execution_count": 5,
     "metadata": {},
     "output_type": "execute_result"
    }
   ],
   "source": [
    "df2 = pd.read_csv('/home/ali.lawati/mol-incontext/input/debug.csv')\n",
    "df2"
   ]
  },
  {
   "cell_type": "code",
   "execution_count": 7,
   "id": "1e4e0d54-0f40-4b5a-93cc-4d072666f54d",
   "metadata": {},
   "outputs": [
    {
     "name": "stdout",
     "output_type": "stream",
     "text": [
      "['Input: CC(=O)CCC1COc2cc3c(c(O)c21)C(=O)c1c(O)cc(O)cc1C3=O\\nOutput: The molecule is the tetracyclic anthrafuran form of versicolorone. It is an anthrafuran, a versicolorone and a member of p-quinones.\\n###\\nInput: CCCCCCCCCCCCCC[C@@H](O)[C@@H](O)[C@H](CO[C@H]1O[C@H](CO)[C@H](O)[C@H](O)[C@H]1O)N=C(O)CCCCCCCc1ccc(F)cc1\\nOutput: The molecule is a glycophytoceramide having an alpha-D-galactopyranosyl residue at the O-1 position and an 8-(4-fluorophenyl)octanoyl group attached to the nitrogen. It derives from an alpha-D-galactose.\\n###\\nInput: O=C(O)c1c(O)cccc1O\\nOutput:']\n"
     ]
    }
   ],
   "source": [
    "prompts = df2['prompt1'].values\n",
    "print (prompts)"
   ]
  },
  {
   "cell_type": "code",
   "execution_count": null,
   "id": "ba42550f-3537-4abf-be34-d679800291f4",
   "metadata": {},
   "outputs": [],
   "source": []
  }
 ],
 "metadata": {
  "kernelspec": {
   "display_name": "Python 3 (ipykernel)",
   "language": "python",
   "name": "python3"
  },
  "language_info": {
   "codemirror_mode": {
    "name": "ipython",
    "version": 3
   },
   "file_extension": ".py",
   "mimetype": "text/x-python",
   "name": "python",
   "nbconvert_exporter": "python",
   "pygments_lexer": "ipython3",
   "version": "3.11.9"
  }
 },
 "nbformat": 4,
 "nbformat_minor": 5
}
