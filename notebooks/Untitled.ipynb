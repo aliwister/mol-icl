{
 "cells": [
  {
   "cell_type": "code",
   "execution_count": 1,
   "id": "30971e09-5388-432f-a1f5-9c473cef51ee",
   "metadata": {},
   "outputs": [],
   "source": [
    "import numpy as np\n",
    "def sim(v1, v2):\n",
    "  v1_normed = v1 / np.linalg.norm(v1)\n",
    "  v2_normed = v2 / np.linalg.norm(v2)\n",
    "  return np.dot(v1_normed, v2_normed)  # normalized dot prod"
   ]
  },
  {
   "cell_type": "code",
   "execution_count": 2,
   "id": "050e925e-cc96-47b2-828c-25a7b06e6623",
   "metadata": {},
   "outputs": [],
   "source": [
    "v1 = np.array([0.5, 0.6, 0.5, 0.6])\n",
    "v2 = np.array([0.1, 0.1, 0.2, 0.2])\n",
    "v3 = np.array([0.9, 0.8, 0.9, 0.8])\n",
    "v4 = np.array([0.3, 0.7, 0.7, 0.3])"
   ]
  },
  {
   "cell_type": "code",
   "execution_count": 5,
   "id": "684ff37b-e62e-4e05-9d68-36cfdb7d2fae",
   "metadata": {},
   "outputs": [
    {
     "name": "stdout",
     "output_type": "stream",
     "text": [
      "\n",
      "Demo of normalized temp-scaled CE loss \n",
      "\n",
      "Batch of unlabeled data, v1 to v4: \n",
      "[0.5 0.6 0.5 0.6]\n",
      "[0.1 0.1 0.2 0.2]\n",
      "[0.9 0.8 0.9 0.8]\n",
      "[0.3 0.7 0.7 0.3]\n",
      "\n",
      "Augmented data, v5 to v8: \n",
      "[0.55 0.65 0.5  0.6 ]\n",
      "[0.1  0.15 0.25 0.2 ]\n",
      "[0.9  0.85 0.95 0.8 ]\n",
      "[0.35 0.7  0.75 0.3 ]\n",
      "\n",
      "Computing loss for positive pair v1,v5 \n",
      "\n",
      "1.598489\n",
      "\n",
      "End demo \n"
     ]
    }
   ],
   "source": [
    "# contrastive_loss_demo.py\n",
    "\n",
    "# \"normalized temperature-scaled cross entropy loss\"\n",
    "# \"A Simple Framework for Contrastive Learning \n",
    "#   of Visual Representations\" (2020), Chen, et al.\n",
    "\n",
    "import numpy as np\n",
    "\n",
    "def sim(v1, v2):\n",
    "  v1_normed = v1 / np.linalg.norm(v1)\n",
    "  v2_normed = v2 / np.linalg.norm(v2)\n",
    "  return np.dot(v1_normed, v2_normed)  # normalized dot prod\n",
    "\n",
    "np.set_printoptions(precision=2)\n",
    "\n",
    "print(\"\\nDemo of normalized temp-scaled CE loss \")\n",
    "\n",
    "# a batch of data\n",
    "v1 = np.array([0.5, 0.6, 0.5, 0.6])\n",
    "v2 = np.array([0.1, 0.1, 0.2, 0.2])\n",
    "v3 = np.array([0.9, 0.8, 0.9, 0.8])\n",
    "v4 = np.array([0.3, 0.7, 0.7, 0.3])\n",
    "\n",
    "print(\"\\nBatch of unlabeled data, v1 to v4: \")\n",
    "print(v1); print(v2); print(v3); print(v4)\n",
    "\n",
    "# augmented data\n",
    "v5 = np.array([0.55, 0.65, 0.50, 0.60])  # from v1\n",
    "v6 = np.array([0.10, 0.15, 0.25, 0.20])  # from v2\n",
    "v7 = np.array([0.90, 0.85, 0.95, 0.80])  # from v3\n",
    "v8 = np.array([0.35, 0.70, 0.75, 0.30])  # from v4\n",
    "\n",
    "print(\"\\nAugmented data, v5 to v8: \")\n",
    "print(v5); print(v6); print(v7); print(v8)\n",
    "\n",
    "tau = 0.10  # temperature\n",
    "\n",
    "print(\"\\nComputing loss for positive pair v1,v5 \")\n",
    "# loss for positive pair (v1, v5)\n",
    "v1v1 = np.exp(sim(v1,v1)/tau)  # not used\n",
    "v1v2 = np.exp(sim(v1,v2)/tau)\n",
    "v1v3 = np.exp(sim(v1,v3)/tau)\n",
    "v1v4 = np.exp(sim(v1,v4)/tau)\n",
    "v1v5 = np.exp(sim(v1,v5)/tau)  # should be small\n",
    "v1v6 = np.exp(sim(v1,v6)/tau)\n",
    "v1v7 = np.exp(sim(v1,v7)/tau)\n",
    "v1v8 = np.exp(sim(v1,v8)/tau)\n",
    "\n",
    "numerator = v1v5\n",
    "denom = v1v2 + v1v3 + v1v4 + v1v5 + v1v6 + v1v7 + v1v8\n",
    "\n",
    "loss_v1v5 = -np.log(numerator / denom)\n",
    "print(\"\\n%0.6f\" % loss_v1v5)\n",
    "\n",
    "print(\"\\nEnd demo \")\n"
   ]
  },
  {
   "cell_type": "code",
   "execution_count": null,
   "id": "1a1911a6-32b3-445e-a8fb-6402170ee6f7",
   "metadata": {},
   "outputs": [],
   "source": []
  }
 ],
 "metadata": {
  "kernelspec": {
   "display_name": "Python 3 (ipykernel)",
   "language": "python",
   "name": "python3"
  },
  "language_info": {
   "codemirror_mode": {
    "name": "ipython",
    "version": 3
   },
   "file_extension": ".py",
   "mimetype": "text/x-python",
   "name": "python",
   "nbconvert_exporter": "python",
   "pygments_lexer": "ipython3",
   "version": "3.11.8"
  }
 },
 "nbformat": 4,
 "nbformat_minor": 5
}
