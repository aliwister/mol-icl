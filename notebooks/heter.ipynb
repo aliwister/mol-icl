{
 "cells": [
  {
   "cell_type": "code",
   "execution_count": 1,
   "id": "97672f89-010a-46c5-8b98-876b6fe365bc",
   "metadata": {
    "scrolled": true
   },
   "outputs": [
    {
     "name": "stderr",
     "output_type": "stream",
     "text": [
      "/home/ali.lawati/gnn-incontext/.conda/lib/python3.11/site-packages/tqdm/auto.py:21: TqdmWarning: IProgress not found. Please update jupyter and ipywidgets. See https://ipywidgets.readthedocs.io/en/stable/user_install.html\n",
      "  from .autonotebook import tqdm as notebook_tqdm\n"
     ]
    }
   ],
   "source": [
    "from datasets import load_dataset\n",
    "\n",
    "dataset_name = 'liupf/ChEBI-20-MM'\n",
    "# Replace 'dataset_name' with the actual name of the dataset you want to load\n",
    "dataset = load_dataset(dataset_name)\n",
    "df_train = dataset['train'].to_pandas()\n"
   ]
  },
  {
   "cell_type": "code",
   "execution_count": 2,
   "id": "6bd61360-2746-4a9f-97ce-d110600dec3a",
   "metadata": {
    "scrolled": true
   },
   "outputs": [
    {
     "name": "stdout",
     "output_type": "stream",
     "text": [
      "tensor([[6, 0, 4, 5, 3, 0, 4, 0, 0],\n",
      "        [6, 0, 4, 5, 2, 0, 4, 0, 0],\n",
      "        [8, 0, 2, 5, 1, 0, 4, 0, 0]]) tensor([[0, 1, 1, 2],\n",
      "        [1, 0, 2, 1]])\n",
      "tensor([[8, 0, 2, 5, 1, 0, 4, 0, 0],\n",
      "        [6, 0, 4, 5, 2, 0, 4, 0, 0],\n",
      "        [6, 0, 4, 5, 3, 0, 4, 0, 0]]) tensor([[0, 1, 1, 2],\n",
      "        [1, 0, 2, 1]])\n",
      "tensor([[6, 0, 4, 5, 2, 0, 4, 0, 0],\n",
      "        [8, 0, 2, 5, 1, 0, 4, 0, 0],\n",
      "        [6, 0, 4, 5, 3, 0, 4, 0, 0]]) tensor([[0, 0, 1, 2],\n",
      "        [1, 2, 0, 0]])\n"
     ]
    }
   ],
   "source": [
    "import torch_geometric.utils.smiles as smiles\n",
    "smiles_str = \"CCO\"\n",
    "graph = smiles.from_smiles(smiles_str)\n",
    "#print(graph)\n",
    "print(graph.x, graph.edge_index)\n",
    "graph = smiles.from_smiles(\"OCC\")\n",
    "print(graph.x, graph.edge_index)\n",
    "graph = smiles.from_smiles(\"C(O)C\")\n",
    "print(graph.x, graph.edge_index)\n",
    "#print(graph.edge_attr)"
   ]
  },
  {
   "cell_type": "code",
   "execution_count": 3,
   "id": "25ffad5b-d5d6-420d-b95c-19161c72d67a",
   "metadata": {},
   "outputs": [
    {
     "data": {
      "text/plain": [
       "Data(x=[24, 9], edge_index=[2, 48], edge_attr=[48, 3], smiles='CCCCC[C@@H]1O[C@@H]1/C=C/C(O)C/C=C\\C/C=C\\CCCC(=O)[O-]')"
      ]
     },
     "execution_count": 3,
     "metadata": {},
     "output_type": "execute_result"
    }
   ],
   "source": [
    "test_graphs = df_train['SMILES'].apply(smiles.from_smiles)\n",
    "test_graphs[0]"
   ]
  },
  {
   "cell_type": "code",
   "execution_count": 4,
   "id": "b9003ff9-96e5-4630-83bd-a8d1fee6630f",
   "metadata": {},
   "outputs": [],
   "source": [
    "import sys\n",
    "import os\n",
    "\n",
    "# Adjust the path to the directory containing VGAE_pyG\n",
    "sys.path.append(os.path.abspath(os.path.join('..', 'VGAE_pyG')))\n",
    "\n",
    "from model import DeepVGAE\n"
   ]
  },
  {
   "cell_type": "code",
   "execution_count": 5,
   "id": "fbf0e1c0-0a5b-4798-8323-91ec84e7fc51",
   "metadata": {},
   "outputs": [],
   "source": [
    "import os\n",
    "import torch\n",
    "import torch.nn as nn\n",
    "from torch.optim import Adam\n",
    "\n",
    "from torch_geometric.datasets import Planetoid\n",
    "import torch_geometric.transforms as T\n",
    "from torch_geometric.utils import train_test_split_edges\n",
    "\n",
    "from model import DeepVGAE\n",
    "from config.config import parse_args\n",
    "torch.manual_seed(12345)\n",
    "device = torch.device('cuda' if torch.cuda.is_available() else 'cpu')\n",
    "\n",
    "#args = parse_args()\n",
    "#print(args)\n",
    "class Args:\n",
    "    def __init__(self, **kwargs):\n",
    "        self.__dict__.update(kwargs)\n",
    "\n",
    "# Converting the dictionary to an object\n",
    "args = Args(\n",
    "    dataset=\"Cora\",\n",
    "    enc_in_channels=1433,\n",
    "    enc_hidden_channels=32,\n",
    "    enc_out_channels=16,\n",
    "    lr=0.01,\n",
    "    epoch=400\n",
    ")"
   ]
  },
  {
   "cell_type": "code",
   "execution_count": 9,
   "id": "f7ed488a-c9af-4999-b25c-ef148f7f6406",
   "metadata": {},
   "outputs": [
    {
     "data": {
      "text/plain": [
       "Data(x=[2708, 1433], edge_index=[2, 10556], y=[2708], train_mask=[2708], val_mask=[2708], test_mask=[2708])"
      ]
     },
     "execution_count": 9,
     "metadata": {},
     "output_type": "execute_result"
    }
   ],
   "source": [
    "model = DeepVGAE(args).to(device)\n",
    "optimizer = Adam(model.parameters(), lr=args.lr)\n",
    "\n",
    "os.makedirs(\"datasets\", exist_ok=True)\n",
    "dataset = Planetoid(\"datasets\", args.dataset, transform=T.NormalizeFeatures())\n",
    "data = dataset[0].to(device)\n",
    "\n",
    "data"
   ]
  },
  {
   "cell_type": "code",
   "execution_count": null,
   "id": "9a2f59b9-b4c8-4a29-833b-afaaeb427d93",
   "metadata": {},
   "outputs": [],
   "source": [
    "all_edge_index = data.edge_index\n",
    "data = train_test_split_edges(data, 0.05, 0.1)\n",
    "\n",
    "for epoch in range(args.epoch):\n",
    "    model.train()\n",
    "    optimizer.zero_grad()\n",
    "    loss = model.loss(data.x, data.train_pos_edge_index, all_edge_index)\n",
    "    loss.backward()\n",
    "    optimizer.step()\n",
    "    if epoch % 2 == 0:\n",
    "        model.eval()\n",
    "        roc_auc, ap = model.single_test(data.x,\n",
    "                                        data.train_pos_edge_index,\n",
    "                                        data.test_pos_edge_index,\n",
    "                                        data.test_neg_edge_index)\n",
    "        print(\"Epoch {} - Loss: {} ROC_AUC: {} Precision: {}\".format(epoch, loss.cpu().item(), roc_auc, ap))"
   ]
  }
 ],
 "metadata": {
  "kernelspec": {
   "display_name": "Python 3 (ipykernel)",
   "language": "python",
   "name": "python3"
  },
  "language_info": {
   "codemirror_mode": {
    "name": "ipython",
    "version": 3
   },
   "file_extension": ".py",
   "mimetype": "text/x-python",
   "name": "python",
   "nbconvert_exporter": "python",
   "pygments_lexer": "ipython3",
   "version": "3.11.8"
  }
 },
 "nbformat": 4,
 "nbformat_minor": 5
}
