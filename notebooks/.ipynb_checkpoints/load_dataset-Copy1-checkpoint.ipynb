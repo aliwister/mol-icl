{
 "cells": [
  {
   "cell_type": "code",
   "execution_count": 3,
   "id": "97672f89-010a-46c5-8b98-876b6fe365bc",
   "metadata": {
    "scrolled": true
   },
   "outputs": [
    {
     "data": {
      "text/plain": [
       "prompt1    Input: CC(=O)CCC1COc2cc3c(c(O)c21)C(=O)c1c(O)c...\n",
       "ref        The molecule is a dihydroxybenzoic acid having...\n",
       "Name: 343, dtype: object"
      ]
     },
     "execution_count": 3,
     "metadata": {},
     "output_type": "execute_result"
    }
   ],
   "source": [
    "\n",
    "import pandas as pd\n",
    "\n",
    "dataset_name = '/home/ali.lawati/mol-incontext/input/chebi-random-2-1000.csv'\n",
    "# Replace 'dataset_name' with the actual name of the dataset you want to load\n",
    "df = pd.read_csv(dataset_name)\n",
    "row = df.iloc[[343]]\n",
    "row.to_csv('/home/ali.lawati/mol-incontext/input/debug.csv', index=False)\n"
   ]
  },
  {
   "cell_type": "code",
   "execution_count": 6,
   "id": "6bd61360-2746-4a9f-97ce-d110600dec3a",
   "metadata": {
    "scrolled": true
   },
   "outputs": [
    {
     "data": {
      "text/plain": [
       "'Input: CC(=O)CCC1COc2cc3c(c(O)c21)C(=O)c1c(O)cc(O)cc1C3=O\\nOutput: The molecule is the tetracyclic anthrafuran form of versicolorone. It is an anthrafuran, a versicolorone and a member of p-quinones.\\n###\\nInput: CCCCCCCCCCCCCC[C@@H](O)[C@@H](O)[C@H](CO[C@H]1O[C@H](CO)[C@H](O)[C@H](O)[C@H]1O)N=C(O)CCCCCCCc1ccc(F)cc1\\nOutput: The molecule is a glycophytoceramide having an alpha-D-galactopyranosyl residue at the O-1 position and an 8-(4-fluorophenyl)octanoyl group attached to the nitrogen. It derives from an alpha-D-galactose.\\n###\\nInput: O=C(O)c1c(O)cccc1O\\nOutput:'"
      ]
     },
     "execution_count": 6,
     "metadata": {},
     "output_type": "execute_result"
    }
   ],
   "source": [
    "# Set display options to avoid truncation\n",
    "pd.set_option('display.max_rows', None)  # Display all rows\n",
    "pd.set_option('display.max_columns', None)  # Display all columns\n",
    "pd.set_option('display.max_colwidth', None)  # Display full column width\n",
    "pd.set_option('display.expand_frame_repr', False)  # Disable wrapping to new line\n",
    "\n",
    "df.iloc[343]['prompt1']\n"
   ]
  },
  {
   "cell_type": "code",
   "execution_count": 5,
   "id": "1f25479b-a9d5-42db-b8c1-5a036be162ea",
   "metadata": {},
   "outputs": [
    {
     "data": {
      "image/png": "[encoded data removed]",
      "text/plain": [
       "<Figure size 800x600 with 1 Axes>"
      ]
     },
     "metadata": {},
     "output_type": "display_data"
    }
   ],
   "source": [
    "import networkx as nx\n",
    "import matplotlib.pyplot as plt\n",
    "from rdkit import Chem\n",
    "from rdkit.Chem import rdmolops\n",
    "\n",
    "def smiles_to_tree(smiles):\n",
    "    # Convert SMILES to RDKit molecule\n",
    "    mol = Chem.MolFromSmiles(smiles)\n",
    "    \n",
    "    if mol is None:\n",
    "        raise ValueError(f\"Invalid SMILES string: {smiles}\")\n",
    "    \n",
    "    # Get the adjacency list from the molecule\n",
    "    adjacency_list = {}\n",
    "    for atom in mol.GetAtoms():\n",
    "        atom_idx = atom.GetIdx()\n",
    "        atom_symbol = atom.GetSymbol()\n",
    "        neighbors = [nbr.GetIdx() for nbr in atom.GetNeighbors()]\n",
    "        \n",
    "        adjacency_list[atom_idx] = {\n",
    "            'symbol': atom_symbol,\n",
    "            'neighbors': neighbors\n",
    "        }\n",
    "    \n",
    "    return adjacency_list\n",
    "\n",
    "def build_networkx_graph(adjacency_list):\n",
    "    G = nx.Graph()\n",
    "    \n",
    "    for atom_idx, data in adjacency_list.items():\n",
    "        atom_symbol = data['symbol']\n",
    "        G.add_node(atom_idx, label=atom_symbol)\n",
    "        \n",
    "        for neighbor_idx in data['neighbors']:\n",
    "            G.add_edge(atom_idx, neighbor_idx)\n",
    "    \n",
    "    return G\n",
    "\n",
    "def plot_molecular_graph(G):\n",
    "    pos = nx.spring_layout(G)\n",
    "    labels = nx.get_node_attributes(G, 'label')\n",
    "    \n",
    "    plt.figure(figsize=(8, 6))\n",
    "    nx.draw(G, pos, with_labels=True, labels=labels, node_size=700, node_color=\"skyblue\", font_size=10, font_weight=\"bold\")\n",
    "    plt.show()\n",
    "\n",
    "# Example SMILES strings\n",
    "#smiles = \"CCO\"  # Ethanol\n",
    "smiles = \"C1CCCCC1\"  # Cyclohexane\n",
    "smiles = df_train.iloc[3]['SMILES']\n",
    "# smiles = \"CC(C)C\"  # Isobutane\n",
    "\n",
    "# Convert SMILES to adjacency list\n",
    "adjacency_list = smiles_to_tree(smiles)\n",
    "\n",
    "# Build NetworkX graph\n",
    "G = build_networkx_graph(adjacency_list)\n",
    "\n",
    "# Plot the molecular graph\n",
    "plot_molecular_graph(G)\n"
   ]
  },
  {
   "cell_type": "code",
   "execution_count": 6,
   "id": "e4d10413-6720-4f24-a4d8-6e897ff59c0e",
   "metadata": {},
   "outputs": [
    {
     "name": "stdout",
     "output_type": "stream",
     "text": [
      "Node features:\n",
      " tensor([[1., 0., 0., 0., 0., 0., 0., 0., 0., 0., 0., 0., 1., 0., 0., 0., 0., 0.,\n",
      "         0., 0., 1., 0., 0., 0., 0., 1., 0., 0.],\n",
      "        [0., 1., 0., 0., 0., 0., 0., 0., 0., 0., 0., 0., 0., 0., 1., 0., 0., 1.,\n",
      "         0., 0., 0., 0., 1., 0., 0., 0., 0., 0.],\n",
      "        [0., 1., 0., 0., 0., 0., 0., 0., 0., 0., 0., 0., 0., 1., 0., 0., 0., 1.,\n",
      "         0., 0., 0., 0., 1., 0., 0., 0., 0., 0.],\n",
      "        [0., 0., 1., 0., 0., 0., 0., 0., 0., 0., 0., 0., 1., 0., 0., 0., 0., 1.,\n",
      "         0., 0., 0., 0., 1., 0., 0., 0., 0., 0.],\n",
      "        [1., 0., 0., 0., 0., 0., 0., 0., 0., 0., 0., 0., 0., 0., 1., 0., 0., 1.,\n",
      "         0., 0., 0., 0., 1., 0., 0., 0., 0., 0.],\n",
      "        [0., 1., 0., 0., 0., 0., 0., 0., 0., 0., 0., 0., 1., 0., 0., 0., 0., 0.,\n",
      "         1., 0., 0., 0., 0., 1., 0., 0., 0., 0.],\n",
      "        [0., 0., 1., 0., 0., 0., 0., 0., 0., 0., 0., 0., 1., 0., 0., 0., 0., 0.,\n",
      "         1., 0., 0., 0., 0., 1., 0., 0., 0., 0.]])\n",
      "Edge index:\n",
      " tensor([[0, 1, 1, 2, 2, 3, 1, 4, 4, 5, 4, 6],\n",
      "        [1, 0, 2, 1, 3, 2, 4, 1, 5, 4, 6, 4]])\n",
      "Edge attributes:\n",
      " tensor([[1., 0., 0., 0.],\n",
      "        [1., 0., 0., 0.],\n",
      "        [1., 0., 0., 0.],\n",
      "        [1., 0., 0., 0.],\n",
      "        [0., 1., 0., 0.],\n",
      "        [0., 1., 0., 0.],\n",
      "        [1., 0., 0., 0.],\n",
      "        [1., 0., 0., 0.],\n",
      "        [0., 1., 0., 0.],\n",
      "        [0., 1., 0., 0.],\n",
      "        [1., 0., 0., 0.],\n",
      "        [1., 0., 0., 0.]])\n"
     ]
    }
   ],
   "source": [
    "import torch\n",
    "from torch_geometric.data import Data\n",
    "from rdkit import Chem\n",
    "from rdkit.Chem import rdmolops\n",
    "\n",
    "# Helper function to one-hot encode atom types\n",
    "def atom_features(atom):\n",
    "    atom_type = one_hot_encoding(atom.GetSymbol(), ['C', 'N', 'O', 'F', 'S', 'Cl', 'Br', 'I', 'P', 'B', 'H'])\n",
    "    degree = one_hot_encoding(atom.GetDegree(), [0, 1, 2, 3, 4, 5])\n",
    "    total_h = one_hot_encoding(atom.GetTotalNumHs(), [0, 1, 2, 3, 4])\n",
    "    implicit_valence = one_hot_encoding(atom.GetImplicitValence(), [0, 1, 2, 3, 4])\n",
    "    aromatic = [1 if atom.GetIsAromatic() else 0]\n",
    "    return atom_type + degree + total_h + implicit_valence + aromatic\n",
    "\n",
    "def one_hot_encoding(x, allowable_set):\n",
    "    if x not in allowable_set:\n",
    "        x = allowable_set[-1]\n",
    "    return [1 if x == s else 0 for s in allowable_set]\n",
    "\n",
    "# Extract features from a molecule\n",
    "def mol_to_graph(smiles):\n",
    "    mol = Chem.MolFromSmiles(smiles)\n",
    "    if mol is None:\n",
    "        raise ValueError(f\"Invalid SMILES string: {smiles}\")\n",
    "    \n",
    "    # Node features\n",
    "    node_features = [atom_features(atom) for atom in mol.GetAtoms()]\n",
    "    x = torch.tensor(node_features, dtype=torch.float)\n",
    "    \n",
    "    # Edge index and edge features\n",
    "    edge_index = []\n",
    "    edge_attr = []\n",
    "    \n",
    "    for bond in mol.GetBonds():\n",
    "        i = bond.GetBeginAtomIdx()\n",
    "        j = bond.GetEndAtomIdx()\n",
    "        edge_index.append([i, j])\n",
    "        edge_index.append([j, i])\n",
    "        \n",
    "        bond_type = bond.GetBondType()\n",
    "        edge_feature = [1 if bond_type == Chem.rdchem.BondType.SINGLE else 0,\n",
    "                        1 if bond_type == Chem.rdchem.BondType.DOUBLE else 0,\n",
    "                        1 if bond_type == Chem.rdchem.BondType.TRIPLE else 0,\n",
    "                        1 if bond_type == Chem.rdchem.BondType.AROMATIC else 0]\n",
    "        \n",
    "        edge_attr.append(edge_feature)\n",
    "        edge_attr.append(edge_feature)\n",
    "    \n",
    "    edge_index = torch.tensor(edge_index, dtype=torch.long).t().contiguous()\n",
    "    edge_attr = torch.tensor(edge_attr, dtype=torch.float)\n",
    "    \n",
    "    return Data(x=x, edge_index=edge_index, edge_attr=edge_attr)\n",
    "\n",
    "# Example usage\n",
    "smiles = \"CCO\"  # Ethanol\n",
    "smiles = df_train.iloc[3]['SMILES']\n",
    "data = mol_to_graph(smiles)\n",
    "\n",
    "print(\"Node features:\\n\", data.x)\n",
    "print(\"Edge index:\\n\", data.edge_index)\n",
    "print(\"Edge attributes:\\n\", data.edge_attr)\n"
   ]
  },
  {
   "cell_type": "code",
   "execution_count": 14,
   "id": "25ffad5b-d5d6-420d-b95c-19161c72d67a",
   "metadata": {},
   "outputs": [
    {
     "name": "stderr",
     "output_type": "stream",
     "text": [
      "[06:57:21] WARNING: not removing hydrogen atom without neighbors\n",
      "[06:57:26] WARNING: not removing hydrogen atom without neighbors\n",
      "[06:57:28] WARNING: not removing hydrogen atom without neighbors\n",
      "[06:57:29] WARNING: not removing hydrogen atom without neighbors\n",
      "[06:57:30] WARNING: not removing hydrogen atom without neighbors\n",
      "[06:57:37] WARNING: not removing hydrogen atom without neighbors\n",
      "[06:57:38] WARNING: not removing hydrogen atom without neighbors\n",
      "[06:57:39] WARNING: not removing hydrogen atom without neighbors\n",
      "[06:57:40] WARNING: not removing hydrogen atom without neighbors\n",
      "[06:57:41] WARNING: not removing hydrogen atom without neighbors\n"
     ]
    },
    {
     "data": {
      "text/plain": [
       "Data(x=[24, 28], edge_index=[2, 48], edge_attr=[48, 4])"
      ]
     },
     "execution_count": 14,
     "metadata": {},
     "output_type": "execute_result"
    }
   ],
   "source": [
    "import networkx as nx\n",
    "import matplotlib.pyplot as plt\n",
    "\n",
    "def plot_molecular_graph(data):\n",
    "    G = nx.Graph()\n",
    "    \n",
    "    for i in range(data.x.size(0)):\n",
    "        G.add_node(i, label=data.x[i].argmax().item())\n",
    "    \n",
    "    for i, j in data.edge_index.t().tolist():\n",
    "        G.add_edge(i, j)\n",
    "    \n",
    "    pos = nx.spring_layout(G)\n",
    "    labels = nx.get_node_attributes(G, 'label')\n",
    "    nx.draw(G, pos, with_labels=True, labels=labels, node_size=700, node_color=\"skyblue\", font_size=10, font_weight=\"bold\")\n",
    "    plt.show()\n",
    "\n",
    "# Plot the molecular graph\n",
    "#plot_molecular_graph(data)\n",
    "\n",
    "\n",
    "test_graphs = df_train['SMILES'].apply(mol_to_graph)\n",
    "test_graphs[0]"
   ]
  },
  {
   "cell_type": "code",
   "execution_count": 17,
   "id": "1b101e63-4de0-4d73-b105-32d8956c240f",
   "metadata": {},
   "outputs": [],
   "source": [
    "test_graphs[0].x.shape\n",
    "n_features = test_graphs[0].x.shape[1]"
   ]
  },
  {
   "cell_type": "code",
   "execution_count": 37,
   "id": "4699559e-5d30-4141-a013-66590645d3f5",
   "metadata": {},
   "outputs": [
    {
     "name": "stdout",
     "output_type": "stream",
     "text": [
      "[Data(x=[24, 28], edge_index=[2, 48], edge_attr=[48, 4])\n",
      " Data(x=[1, 28], edge_index=[0], edge_attr=[0])\n",
      " Data(x=[32, 28], edge_index=[2, 72], edge_attr=[72, 4]) ...\n",
      " Data(x=[77, 28], edge_index=[2, 158], edge_attr=[158, 4])\n",
      " Data(x=[91, 28], edge_index=[2, 186], edge_attr=[186, 4])\n",
      " Data(x=[65, 28], edge_index=[2, 138], edge_attr=[138, 4])]\n"
     ]
    }
   ],
   "source": [
    "#for i in range(1,10):\n",
    "#    print(test_graphs[i].x)\n",
    "\n",
    "print(test_graphs.to_numpy())"
   ]
  },
  {
   "cell_type": "code",
   "execution_count": 44,
   "id": "fbf0e1c0-0a5b-4798-8323-91ec84e7fc51",
   "metadata": {},
   "outputs": [],
   "source": [
    "import torch.nn.functional as F\n",
    "from torch_geometric.nn import GCNConv\n",
    "\n",
    "class GCN(torch.nn.Module):\n",
    "    def __init__(self, num_node_features, hidden_channels):\n",
    "        super(GCN, self).__init__()\n",
    "        self.conv1 = GCNConv(num_node_features, hidden_channels)\n",
    "        self.conv2 = GCNConv(hidden_channels, hidden_channels)\n",
    "\n",
    "    def forward(self, data):\n",
    "        #print(data)\n",
    "        x, edge_index = data.x, data.edge_index\n",
    "        \n",
    "        x = self.conv1(x, edge_index)\n",
    "        x = F.relu(x)\n",
    "        x = self.conv2(x, edge_index)\n",
    "        \n",
    "        return x\n",
    "\n",
    "# Define the model\n",
    "model = GCN(num_node_features=n_features, hidden_channels=16)\n",
    "\n"
   ]
  },
  {
   "cell_type": "code",
   "execution_count": 45,
   "id": "4e359646-6ec9-441e-86b6-a60f39633906",
   "metadata": {},
   "outputs": [
    {
     "name": "stdout",
     "output_type": "stream",
     "text": [
      "Node embeddings:\n",
      " tensor([[ 0.1078, -0.0642, -0.1117, -0.1033,  0.0991,  0.0762, -0.0482,  0.0458,\n",
      "         -0.2125, -0.0935,  0.1388,  0.0248,  0.2237,  0.1183, -0.1621, -0.3353],\n",
      "        [ 0.1103, -0.0403, -0.1284, -0.1765,  0.0846,  0.0076, -0.0528,  0.0175,\n",
      "         -0.2451,  0.0079,  0.0575, -0.0606,  0.2890,  0.0564, -0.0471, -0.2980]])\n"
     ]
    }
   ],
   "source": [
    "from torch_geometric.loader import DataLoader\n",
    "from torch_geometric.nn import global_mean_pool\n",
    "# Forward pass without training\n",
    "train_loader = DataLoader(test_graphs, batch_size=16, shuffle=False)\n",
    "\n",
    "model.eval()  # Set the model to evaluation mode\n",
    "all_pooled = []\n",
    "with torch.no_grad():\n",
    "    for batch in train_loader:\n",
    "        #data = Data(x=x, edge_index=edge_index)\n",
    "        embeddings = model(batch)\n",
    "        pooled = global_mean_pool(embeddings, batch.batch)  # Pool embeddings to a single vector\n",
    "        all_pooled.append(pooled)\n",
    "    #node_embeddings = model(train_loader)\n",
    "\n",
    "print(\"Node embeddings:\\n\", node_embeddings[0:2])\n"
   ]
  },
  {
   "cell_type": "code",
   "execution_count": null,
   "id": "9a2f59b9-b4c8-4a29-833b-afaaeb427d93",
   "metadata": {},
   "outputs": [],
   "source": []
  }
 ],
 "metadata": {
  "kernelspec": {
   "display_name": "Python 3 (ipykernel)",
   "language": "python",
   "name": "python3"
  },
  "language_info": {
   "codemirror_mode": {
    "name": "ipython",
    "version": 3
   },
   "file_extension": ".py",
   "mimetype": "text/x-python",
   "name": "python",
   "nbconvert_exporter": "python",
   "pygments_lexer": "ipython3",
   "version": "3.11.9"
  }
 },
 "nbformat": 4,
 "nbformat_minor": 5
}
